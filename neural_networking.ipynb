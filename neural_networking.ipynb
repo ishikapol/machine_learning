{
  "cells": [
    {
      "cell_type": "markdown",
      "metadata": {
        "id": "NegAkmLZKITL"
      },
      "source": [
        "# CSE 144 Spring 2023 Assignment 2\n",
        "For this assignment, your task is to train a several convolutional neural networks to classify CIFAR-10 images. CIFAR-10 is a 10-class image classification dataset with 50,000 training images and 10,000 test images. You can find more info in https://www.cs.toronto.edu/~kriz/cifar.html. You should define a simple CNN with restrictions to classify this dataset."
      ]
    },
    {
      "cell_type": "code",
      "source": [
        "from google.colab import drive\n",
        "drive.mount('/content/drive')"
      ],
      "metadata": {
        "colab": {
          "base_uri": "https://localhost:8080/"
        },
        "id": "mrzEL1FeWyo6",
        "outputId": "8150bf30-2f9c-4e6b-9678-50f0d79ef208"
      },
      "execution_count": null,
      "outputs": [
        {
          "output_type": "stream",
          "name": "stdout",
          "text": [
            "Drive already mounted at /content/drive; to attempt to forcibly remount, call drive.mount(\"/content/drive\", force_remount=True).\n"
          ]
        }
      ]
    },
    {
      "cell_type": "code",
      "execution_count": null,
      "metadata": {
        "id": "UQ7vc7_hKITR"
      },
      "outputs": [],
      "source": [
        "import matplotlib.pyplot as plt\n",
        "import pandas as pd\n",
        "%matplotlib inline\n",
        "%config InlineBackend.figure_format=\"retina\"\n",
        "import numpy as np\n",
        "import random\n",
        "import torch\n",
        "from torch import nn, optim\n",
        "import math\n",
        "from IPython import display\n",
        "import torchvision.datasets as datasets\n",
        "import torchvision.transforms as transforms\n",
        "from torch.utils.data import TensorDataset\n",
        "import pdb"
      ]
    },
    {
      "cell_type": "markdown",
      "source": [
        "#### Step-0: Setting a Seed for Random Number Generators in Python and PyTorch"
      ],
      "metadata": {
        "id": "_9paVLUhMk1Y"
      }
    },
    {
      "cell_type": "code",
      "source": [
        "seed = 42\n",
        "random.seed(seed)\n",
        "torch.manual_seed(seed)"
      ],
      "metadata": {
        "id": "Hz8XTp_zMkLu",
        "colab": {
          "base_uri": "https://localhost:8080/"
        },
        "outputId": "ea2528ad-ba75-4615-9f45-5729b6ea20bf"
      },
      "execution_count": null,
      "outputs": [
        {
          "output_type": "execute_result",
          "data": {
            "text/plain": [
              "<torch._C.Generator at 0x7f88d67462f0>"
            ]
          },
          "metadata": {},
          "execution_count": 3
        }
      ]
    },
    {
      "cell_type": "markdown",
      "metadata": {
        "id": "ZVLfTcsJKITR"
      },
      "source": [
        "#### Step-1: Import dataset\n",
        "Load the CIFAR-10 dataset using `datasets.CIFAR10` and use 10% of training images as validation data. Notice that PyTorch would normalize the range of pixel values to 0-1 automatically. (5 scores)"
      ]
    },
    {
      "cell_type": "code",
      "execution_count": null,
      "metadata": {
        "id": "K6PznhssKITR",
        "colab": {
          "base_uri": "https://localhost:8080/"
        },
        "outputId": "4c6f6798-db16-4291-e0fb-54014c0540de"
      },
      "outputs": [
        {
          "output_type": "stream",
          "name": "stdout",
          "text": [
            "Files already downloaded and verified\n",
            "Files already downloaded and verified\n"
          ]
        }
      ],
      "source": [
        "# ###### Your codes start here.######\n",
        "\n",
        "# Set the path to the CIFAR-10 dataset folder\n",
        "data_path = \"/content/drive/MyDrive/CSE 144- Applied Machine Learning/Assignment 2/cifar\"\n",
        "\n",
        "# Convert PIL image to tensor\n",
        "transform = transforms.ToTensor()\n",
        "\n",
        "# Load the CIFAR-10 dataset\n",
        "train_dataset = datasets.CIFAR10(root=data_path, train=True, download=True, transform=transform)\n",
        "test_dataset = datasets.CIFAR10(root=data_path, train=False, download=True, transform=transform)\n",
        "\n",
        "# Calculate the number of validation samples\n",
        "val_num = int(0.1 * len(train_dataset))\n",
        "\n",
        "# Split the datasets\n",
        "train_dataset, val_dataset = torch.utils.data.random_split(train_dataset, [len(train_dataset) - val_num, val_num])\n",
        "\n",
        "###### Your codes end here.######"
      ]
    },
    {
      "cell_type": "markdown",
      "source": [
        "#### Step-2: Building Data Loaders\n",
        "\n",
        "In this step, you will use PyTorch's DataLoader function to create data loaders for your training, validation, and test datasets. The DataLoader function allows you to load data in batches, which can help improve training efficiency. You will set the batch size to 128, which means that the model will be trained on 128 samples at a time.\n",
        "\n",
        "For the train_dataset, you will set the shuffle parameter to True, which randomizes the order in which the data is loaded, helping the model learn from a more diverse set of examples. On the other hand, for the val_dataset and test_dataset, you will set the shuffle parameter to False. (5 scores)"
      ],
      "metadata": {
        "id": "HDP7KP2NfLup"
      }
    },
    {
      "cell_type": "code",
      "source": [
        "###### Your codes start here.######\n",
        "\n",
        "# Create data loaders for training, validation, and testing\n",
        "trainloader = torch.utils.data.DataLoader(train_dataset, batch_size=128, shuffle=True)\n",
        "valloader = torch.utils.data.DataLoader(val_dataset, batch_size=128, shuffle=False)\n",
        "testloader = torch.utils.data.DataLoader(test_dataset, batch_size=128, shuffle=False)\n",
        "\n",
        "###### Your codes end here.######\n",
        "\n",
        "# assert the size of the train dataset\n",
        "assert len(train_dataset) == 45000\n",
        "assert train_dataset[0][0].shape == torch.Size([3, 32, 32])\n",
        "\n",
        "# assert the size of the validation dataset\n",
        "assert len(val_dataset) == 5000\n",
        "assert val_dataset[0][0].shape == torch.Size([3, 32, 32])\n",
        "\n",
        "# assert the size of the test dataset\n",
        "assert len(test_dataset) == 10000\n",
        "assert test_dataset[0][0].shape == torch.Size([3, 32, 32])"
      ],
      "metadata": {
        "id": "7VBb_YqNfFvy"
      },
      "execution_count": null,
      "outputs": []
    },
    {
      "cell_type": "markdown",
      "source": [
        "**Visulize one image from CIFAR**"
      ],
      "metadata": {
        "id": "ek_nIbhhkMry"
      }
    },
    {
      "cell_type": "code",
      "source": [
        "image, _ = trainloader.dataset.__getitem__(0)\n",
        "image = image.permute(1,2,0)\n",
        "plt.imshow(image, cmap=plt.cm.binary)\n",
        "plt.axis('off');"
      ],
      "metadata": {
        "id": "L3fbeVE1_I16",
        "colab": {
          "base_uri": "https://localhost:8080/",
          "height": 406
        },
        "outputId": "ae7c5538-f825-40ff-d2fa-5119adc8889b"
      },
      "execution_count": null,
      "outputs": [
        {
          "output_type": "display_data",
          "data": {
            "text/plain": [
              "<Figure size 640x480 with 1 Axes>"
            ],
            "image/png": "[encoded data removed]"
          },
          "metadata": {
            "image/png": {
              "width": 389,
              "height": 389
            }
          }
        }
      ]
    },
    {
      "cell_type": "markdown",
      "metadata": {
        "id": "eFpoh2XBKITT"
      },
      "source": [
        "#### Step-3: Build a neural network.\n",
        "Build your convolutional neural networks by adding some layers. You should use 2 convolution layers and ReLU as the default activation function. The kernel size of both layers should be 3x3. Use 32 and 64 as the number of filters for the first and the second convolutional layers, respectively. After that, flatten your input and add two more dense layers. There should be 1024 units in the first dense with ReLU activation, and use 10 hidden units in the second dense layer with softmax activation. The requirements are same for the following questions. (10 scores)"
      ]
    },
    {
      "cell_type": "code",
      "source": [
        "device = torch.device(\"cuda:0\" if torch.cuda.is_available() else \"cpu\")"
      ],
      "metadata": {
        "id": "hAajjlzRK3LO"
      },
      "execution_count": null,
      "outputs": []
    },
    {
      "cell_type": "code",
      "execution_count": null,
      "metadata": {
        "id": "Y-7IE80mKITT"
      },
      "outputs": [],
      "source": [
        "###### Your code starts here. ######\n",
        "\n",
        "class Model_3(nn.Module):\n",
        "    def __init__(self):\n",
        "        super(Model_3, self).__init__()\n",
        "\n",
        "        self.conv1 = nn.Conv2d(3, 32, kernel_size=3, padding=1)\n",
        "        self.conv2 = nn.Conv2d(32, 64, kernel_size=3, padding=1)\n",
        "        # The output of the second convolutional layer has a shape of\n",
        "        # (batch_size, 64, 8, 8) after flattening\n",
        "        self.dl1 = nn.Linear(64 * 32 * 32, 1024)\n",
        "        self.dl2 = nn.Linear(1024, 10)\n",
        "        self.flat = nn.Flatten()\n",
        "        self.relu = nn.ReLU()\n",
        "        self.softmax = nn.Softmax(dim=1)\n",
        "\n",
        "    def forward(self, x):\n",
        "        x = self.relu(self.conv1(x))\n",
        "        x = self.relu(self.conv2(x))\n",
        "        x = self.flat(x)\n",
        "        #x = x.view(x.size(0), -1)  # Flatten the input\n",
        "        x = self.relu(self.dl1(x))\n",
        "        x = self.dl2(x)\n",
        "        x = self.softmax(x)\n",
        "        return x\n",
        "\n",
        "###### Your codes end here.######"
      ]
    },
    {
      "cell_type": "markdown",
      "metadata": {
        "id": "dt27nBzJKITU"
      },
      "source": [
        "#### Step-4: Train the model\n",
        "Compile model here and set your initial hyperparameters. Use SGD as the optimizer with initial learning rate 0.01. You could choose 'CrossEntropyLoss' as your loss function, and the metrics should be accuracy. After that, train your model for 10 epochs. The requirements are same for the following questions. (15 scores)"
      ]
    },
    {
      "cell_type": "code",
      "execution_count": null,
      "metadata": {
        "id": "egGS7HGEKITV"
      },
      "outputs": [],
      "source": [
        "def evaluate_model(model, dataloader, is_test=False):\n",
        "  #Evaluation\n",
        "\n",
        "  # Set model to evaluation mode\n",
        "  model.eval()\n",
        "\n",
        "  with torch.no_grad():\n",
        "    correct = 0\n",
        "    loss = 0\n",
        "\n",
        "    criterion = torch.nn.CrossEntropyLoss(reduction='none')\n",
        "\n",
        "    for data, target in dataloader:\n",
        "        data, target = data.to(device), target.to(device)\n",
        "        outputs = model(data)\n",
        "\n",
        "        loss += torch.sum(criterion(outputs, target)).item()\n",
        "\n",
        "        pred = outputs.data.max(1, keepdim=True)[1] # get the index of the max log-probability\n",
        "        correct += pred.eq(target.data.view_as(pred)).cpu().sum().item()\n",
        "\n",
        "    loss /= len(dataloader.dataset)\n",
        "    accuracy = 100. * correct / len(dataloader.dataset)\n",
        "    print('\\n{} set: Average loss: {:.4f}, Accuracy: {}/{} ({:.0f}%)\\n'.format(\n",
        "        \"Test\" if is_test else \"Validation\",\n",
        "        loss, correct, len(dataloader.dataset),\n",
        "        accuracy))\n",
        "  # Set model back to training mode\n",
        "  model.train()\n",
        "\n",
        "###### Your code starts here. ######\n",
        "\n",
        "def train_model(model):\n",
        "\n",
        "    # Set the initial hyperparameters\n",
        "    #learning_rate = 0.01\n",
        "    #epochs = 10\n",
        "\n",
        "    # Define the optimizer and loss function\n",
        "    optimizer = torch.optim.SGD(model.parameters(), lr=learning_rate)\n",
        "    criterion = torch.nn.CrossEntropyLoss()\n",
        "\n",
        "    # Move model to device\n",
        "    model.to(device)\n",
        "\n",
        "    for epoch in range(epochs):\n",
        "        model.train()  # Set model to training mode\n",
        "\n",
        "        for data, target in trainloader:\n",
        "            data, target = data.to(device), target.to(device)\n",
        "            optimizer.zero_grad()  # Clear the gradients\n",
        "\n",
        "            # Forward pass\n",
        "            output = model(data)\n",
        "            loss = criterion(output, target)\n",
        "\n",
        "            # Backward pass and optimization\n",
        "            loss.backward()\n",
        "            optimizer.step()\n",
        "\n",
        "        # Evaluate the model on the validation set\n",
        "        evaluate_model(model, valloader)\n",
        "\n",
        "###### Your code end here. ######"
      ]
    },
    {
      "cell_type": "markdown",
      "source": [
        "**Set hyper-parameters**"
      ],
      "metadata": {
        "id": "aTg6snZ4fu2U"
      }
    },
    {
      "cell_type": "code",
      "source": [
        "learning_rate = 0.01\n",
        "epochs = 10\n",
        "batch_size = 128"
      ],
      "metadata": {
        "id": "BJdfqGOafyK0"
      },
      "execution_count": null,
      "outputs": []
    },
    {
      "cell_type": "code",
      "source": [
        "model_step_3 = Model_3()\n",
        "model_step_3.to(device)\n",
        "\n",
        "optimizer = torch.optim.SGD(model_step_3.parameters(), lr=learning_rate)\n",
        "train_model(model_step_3)"
      ],
      "metadata": {
        "id": "72FMIYO1nu-8",
        "colab": {
          "base_uri": "https://localhost:8080/"
        },
        "outputId": "570eb65c-1724-4625-bad0-cf4e26f5f1e4"
      },
      "execution_count": null,
      "outputs": [
        {
          "output_type": "stream",
          "name": "stdout",
          "text": [
            "\n",
            "Validation set: Average loss: 2.2976, Accuracy: 488/5000 (10%)\n",
            "\n",
            "\n",
            "Validation set: Average loss: 2.2809, Accuracy: 810/5000 (16%)\n",
            "\n",
            "\n",
            "Validation set: Average loss: 2.2268, Accuracy: 1097/5000 (22%)\n",
            "\n",
            "\n",
            "Validation set: Average loss: 2.1851, Accuracy: 1392/5000 (28%)\n",
            "\n",
            "\n",
            "Validation set: Average loss: 2.1453, Accuracy: 1585/5000 (32%)\n",
            "\n",
            "\n",
            "Validation set: Average loss: 2.1327, Accuracy: 1630/5000 (33%)\n",
            "\n",
            "\n",
            "Validation set: Average loss: 2.1277, Accuracy: 1644/5000 (33%)\n",
            "\n",
            "\n",
            "Validation set: Average loss: 2.1259, Accuracy: 1632/5000 (33%)\n",
            "\n",
            "\n",
            "Validation set: Average loss: 2.1074, Accuracy: 1755/5000 (35%)\n",
            "\n",
            "\n",
            "Validation set: Average loss: 2.1004, Accuracy: 1778/5000 (36%)\n",
            "\n"
          ]
        }
      ]
    },
    {
      "cell_type": "code",
      "source": [
        "# Evaluation\n",
        "evaluate_model(model_step_3, testloader, is_test=True)"
      ],
      "metadata": {
        "id": "BTq0j4GpOvyU",
        "colab": {
          "base_uri": "https://localhost:8080/"
        },
        "outputId": "957c8710-bbe6-4d80-de2a-ba0254686d77"
      },
      "execution_count": null,
      "outputs": [
        {
          "output_type": "stream",
          "name": "stdout",
          "text": [
            "\n",
            "Test set: Average loss: 2.0981, Accuracy: 3601/10000 (36%)\n",
            "\n"
          ]
        }
      ]
    },
    {
      "cell_type": "markdown",
      "metadata": {
        "id": "urGP_6ZJKITV"
      },
      "source": [
        "#### Step-5: Regularization\n",
        "Add one dropout layer with 0.5 drop rate between the two dense layer and apply a SGD with momentum 0.9. You can keep all other hyperparameters the same. (5 scores)"
      ]
    },
    {
      "cell_type": "code",
      "execution_count": null,
      "metadata": {
        "id": "vlIUR4fgKITV",
        "colab": {
          "base_uri": "https://localhost:8080/"
        },
        "outputId": "bcaad4ec-72f9-406b-947e-a89ef40c67da"
      },
      "outputs": [
        {
          "output_type": "stream",
          "name": "stdout",
          "text": [
            "\n",
            "Validation set: Average loss: 2.2980, Accuracy: 503/5000 (10%)\n",
            "\n",
            "\n",
            "Validation set: Average loss: 2.2812, Accuracy: 660/5000 (13%)\n",
            "\n",
            "\n",
            "Validation set: Average loss: 2.2285, Accuracy: 1115/5000 (22%)\n",
            "\n",
            "\n",
            "Validation set: Average loss: 2.1843, Accuracy: 1390/5000 (28%)\n",
            "\n",
            "\n",
            "Validation set: Average loss: 2.1498, Accuracy: 1556/5000 (31%)\n",
            "\n",
            "\n",
            "Validation set: Average loss: 2.1235, Accuracy: 1707/5000 (34%)\n",
            "\n",
            "\n",
            "Validation set: Average loss: 2.1170, Accuracy: 1714/5000 (34%)\n",
            "\n",
            "\n",
            "Validation set: Average loss: 2.1142, Accuracy: 1719/5000 (34%)\n",
            "\n",
            "\n",
            "Validation set: Average loss: 2.1013, Accuracy: 1771/5000 (35%)\n",
            "\n",
            "\n",
            "Validation set: Average loss: 2.0980, Accuracy: 1793/5000 (36%)\n",
            "\n"
          ]
        }
      ],
      "source": [
        "###### Your code starts here. ######\n",
        "\n",
        "class Model_5(nn.Module):\n",
        "    def __init__(self):\n",
        "        super(Model_5, self).__init__()\n",
        "\n",
        "        self.conv1 = nn.Conv2d(3, 32, kernel_size=3, padding=1)\n",
        "        self.conv2 = nn.Conv2d(32, 64, kernel_size=3, padding=1)\n",
        "        self.dl1 = nn.Linear(64 * 32 * 32, 1024)\n",
        "        self.dropout = nn.Dropout(0.5)  # Add dropout layer with 0.5 drop rate\n",
        "        self.dl2 = nn.Linear(1024, 10)\n",
        "        self.relu = nn.ReLU()\n",
        "        self.softmax = nn.Softmax(dim=1)\n",
        "\n",
        "    def forward(self, x):\n",
        "        x = self.relu(self.conv1(x))\n",
        "        x = self.relu(self.conv2(x))\n",
        "        x = x.view(x.size(0), -1)  # Flatten the input\n",
        "        x = self.relu(self.dl1(x))\n",
        "        x = self.dropout(x)  # Apply dropout\n",
        "        x = self.dl2(x)\n",
        "        x = self.softmax(x)\n",
        "        return x\n",
        "\n",
        "# Create an instance of your model\n",
        "model_step_5 = Model_5()\n",
        "\n",
        "# Set the initial hyperparameters\n",
        "learning_rate = 0.01\n",
        "epochs = 10\n",
        "\n",
        "# Define the optimizer and loss function\n",
        "optimizer = torch.optim.SGD(model_step_5.parameters(), lr=learning_rate, momentum=0.9)\n",
        "criterion = nn.CrossEntropyLoss()\n",
        "\n",
        "# Train the model\n",
        "train_model(model_step_5)\n",
        "\n",
        "###### Your codes end here.######"
      ]
    },
    {
      "cell_type": "code",
      "source": [
        "# Evaluation\n",
        "evaluate_model(model_step_5, testloader, is_test=True)"
      ],
      "metadata": {
        "id": "dcK68GU7NlrG",
        "colab": {
          "base_uri": "https://localhost:8080/"
        },
        "outputId": "446f019a-e12c-46e6-cea2-f3dddd5b6d31"
      },
      "execution_count": null,
      "outputs": [
        {
          "output_type": "stream",
          "name": "stdout",
          "text": [
            "\n",
            "Test set: Average loss: 2.0967, Accuracy: 3604/10000 (36%)\n",
            "\n"
          ]
        }
      ]
    },
    {
      "cell_type": "markdown",
      "metadata": {
        "id": "cGn8p6_wKITV"
      },
      "source": [
        "#### Step-6: Deeper neural network\n",
        "\n",
        "Try to add two more convolution layers in your model (four in total). Use 128 as the number of filters for two extra convolution layers, and 3x3 as the kernel size. (5 scores)"
      ]
    },
    {
      "cell_type": "code",
      "execution_count": null,
      "metadata": {
        "id": "R1JC-NoEKITW",
        "colab": {
          "base_uri": "https://localhost:8080/"
        },
        "outputId": "25be25d6-efa6-4aaf-f939-ef96966e7d2c"
      },
      "outputs": [
        {
          "output_type": "stream",
          "name": "stdout",
          "text": [
            "\n",
            "Validation set: Average loss: 2.3025, Accuracy: 598/5000 (12%)\n",
            "\n",
            "\n",
            "Validation set: Average loss: 2.3023, Accuracy: 500/5000 (10%)\n",
            "\n",
            "\n",
            "Validation set: Average loss: 2.3021, Accuracy: 489/5000 (10%)\n",
            "\n",
            "\n",
            "Validation set: Average loss: 2.3017, Accuracy: 484/5000 (10%)\n",
            "\n",
            "\n",
            "Validation set: Average loss: 2.3010, Accuracy: 484/5000 (10%)\n",
            "\n",
            "\n",
            "Validation set: Average loss: 2.2985, Accuracy: 487/5000 (10%)\n",
            "\n",
            "\n",
            "Validation set: Average loss: 2.2860, Accuracy: 582/5000 (12%)\n",
            "\n",
            "\n",
            "Validation set: Average loss: 2.2326, Accuracy: 1050/5000 (21%)\n",
            "\n",
            "\n",
            "Validation set: Average loss: 2.1680, Accuracy: 1465/5000 (29%)\n",
            "\n",
            "\n",
            "Validation set: Average loss: 2.1293, Accuracy: 1643/5000 (33%)\n",
            "\n"
          ]
        }
      ],
      "source": [
        "###### Your code starts here. ######\n",
        "\n",
        "class Model_6(nn.Module):\n",
        "    def __init__(self):\n",
        "        super(Model_6, self).__init__()\n",
        "\n",
        "        self.conv1 = nn.Conv2d(3, 32, kernel_size=3, padding=1)\n",
        "        self.conv2 = nn.Conv2d(32, 64, kernel_size=3, padding=1)\n",
        "        self.conv3 = nn.Conv2d(64, 128, kernel_size=3, padding=1)  # New convolution layer\n",
        "        self.conv4 = nn.Conv2d(128, 128, kernel_size=3, padding=1)  # New convolution layer\n",
        "        self.dl1 = nn.Linear(128 * 32 * 32, 1024)\n",
        "        self.dropout = nn.Dropout(0.5)\n",
        "        self.dl2 = nn.Linear(1024, 10)\n",
        "        self.relu = nn.ReLU()\n",
        "        self.softmax = nn.Softmax(dim=1)\n",
        "\n",
        "    def forward(self, x):\n",
        "        x = self.relu(self.conv1(x))\n",
        "        x = self.relu(self.conv2(x))\n",
        "        x = self.relu(self.conv3(x))  # Apply the third convolution layer\n",
        "        x = self.relu(self.conv4(x))  # Apply the fourth convolution layer\n",
        "        x = x.view(x.size(0), -1)\n",
        "        x = self.relu(self.dl1(x))\n",
        "        x = self.dropout(x)\n",
        "        x = self.dl2(x)\n",
        "        x = self.softmax(x)\n",
        "        return x\n",
        "\n",
        "# Create an instance of your model\n",
        "model_step_6 = Model_6()\n",
        "\n",
        "# Set the initial hyperparameters\n",
        "learning_rate = 0.01\n",
        "epochs = 10\n",
        "\n",
        "# Define the optimizer and loss function\n",
        "optimizer = torch.optim.SGD(model_step_6.parameters(), lr=learning_rate, momentum=0.9)\n",
        "criterion = nn.CrossEntropyLoss()\n",
        "\n",
        "# Train the model\n",
        "train_model(model_step_6)\n",
        "\n",
        "###### Your codes end here.######"
      ]
    },
    {
      "cell_type": "code",
      "execution_count": null,
      "metadata": {
        "id": "ldf0M6JHnryK",
        "colab": {
          "base_uri": "https://localhost:8080/"
        },
        "outputId": "41461200-2a92-46a5-d58f-92472f24fdf1"
      },
      "outputs": [
        {
          "output_type": "stream",
          "name": "stdout",
          "text": [
            "\n",
            "Test set: Average loss: 2.1254, Accuracy: 3350/10000 (34%)\n",
            "\n"
          ]
        }
      ],
      "source": [
        "# Evaluation\n",
        "evaluate_model(model_step_6, testloader, is_test=True)"
      ]
    },
    {
      "cell_type": "markdown",
      "metadata": {
        "id": "NLm_Vh-1KITW"
      },
      "source": [
        "#### Step-7: Activation function\n",
        "\n",
        "Try another activation function, such as elu, P-ReLU. (5 scores)"
      ]
    },
    {
      "cell_type": "code",
      "execution_count": null,
      "metadata": {
        "id": "QKGOjvceKITW",
        "colab": {
          "base_uri": "https://localhost:8080/"
        },
        "outputId": "655e42d6-ac95-477e-c393-f1460eb50979"
      },
      "outputs": [
        {
          "output_type": "stream",
          "name": "stdout",
          "text": [
            "\n",
            "Validation set: Average loss: 2.2957, Accuracy: 485/5000 (10%)\n",
            "\n",
            "\n",
            "Validation set: Average loss: 2.2507, Accuracy: 969/5000 (19%)\n",
            "\n",
            "\n",
            "Validation set: Average loss: 2.1775, Accuracy: 1426/5000 (29%)\n",
            "\n",
            "\n",
            "Validation set: Average loss: 2.1367, Accuracy: 1616/5000 (32%)\n",
            "\n",
            "\n",
            "Validation set: Average loss: 2.1196, Accuracy: 1691/5000 (34%)\n",
            "\n",
            "\n",
            "Validation set: Average loss: 2.1077, Accuracy: 1737/5000 (35%)\n",
            "\n",
            "\n",
            "Validation set: Average loss: 2.1005, Accuracy: 1772/5000 (35%)\n",
            "\n",
            "\n",
            "Validation set: Average loss: 2.0882, Accuracy: 1846/5000 (37%)\n",
            "\n",
            "\n",
            "Validation set: Average loss: 2.0818, Accuracy: 1882/5000 (38%)\n",
            "\n",
            "\n",
            "Validation set: Average loss: 2.0719, Accuracy: 1928/5000 (39%)\n",
            "\n"
          ]
        }
      ],
      "source": [
        "###### Your code starts here. ######\n",
        "\n",
        "class Model_7(nn.Module):\n",
        "    def __init__(self):\n",
        "        super(Model_7, self).__init__()\n",
        "\n",
        "        self.conv1 = nn.Conv2d(3, 32, kernel_size=3, padding=1)\n",
        "        self.conv2 = nn.Conv2d(32, 64, kernel_size=3, padding=1)\n",
        "        self.conv3 = nn.Conv2d(64, 128, kernel_size=3, padding=1)\n",
        "        self.conv4 = nn.Conv2d(128, 128, kernel_size=3, padding=1)\n",
        "        self.dl1 = nn.Linear(128 * 32 * 32, 1024)\n",
        "        self.dropout = nn.Dropout(0.5)\n",
        "        self.dl2 = nn.Linear(1024, 10)\n",
        "        self.elu = nn.ELU()  # ELU activation function\n",
        "        self.softmax = nn.Softmax(dim=1)\n",
        "\n",
        "    def forward(self, x):\n",
        "        x = self.elu(self.conv1(x))\n",
        "        x = self.elu(self.conv2(x))\n",
        "        x = self.elu(self.conv3(x))\n",
        "        x = self.elu(self.conv4(x))\n",
        "        x = x.view(x.size(0), -1)\n",
        "        x = self.elu(self.dl1(x))\n",
        "        x = self.dropout(x)\n",
        "        x = self.dl2(x)\n",
        "        x = self.softmax(x)\n",
        "        return x\n",
        "\n",
        "# Create an instance of your model\n",
        "model_step_7 = Model_7()\n",
        "\n",
        "# Set the initial hyperparameters\n",
        "learning_rate = 0.01\n",
        "epochs = 10\n",
        "\n",
        "# Define the optimizer and loss function\n",
        "optimizer = torch.optim.SGD(model_step_7.parameters(), lr=learning_rate, momentum=0.9)\n",
        "criterion = nn.CrossEntropyLoss()\n",
        "\n",
        "# Train the model\n",
        "train_model(model_step_7)\n",
        "\n",
        "###### Your codes end here.######"
      ]
    },
    {
      "cell_type": "code",
      "execution_count": null,
      "metadata": {
        "id": "SNMyBMv_nsit",
        "colab": {
          "base_uri": "https://localhost:8080/"
        },
        "outputId": "4d6ebf2f-316d-4c6c-8838-7eb26f0f1cbb"
      },
      "outputs": [
        {
          "output_type": "stream",
          "name": "stdout",
          "text": [
            "\n",
            "Test set: Average loss: 2.0680, Accuracy: 3893/10000 (39%)\n",
            "\n"
          ]
        }
      ],
      "source": [
        "# Evaluation\n",
        "evaluate_model(model_step_7, testloader, is_test=True)"
      ]
    }
  ],
  "metadata": {
    "colab": {
      "provenance": []
    },
    "interpreter": {
      "hash": "3afe1e4ce7822ba0e325ee279bb4d100dadd903c2abe2139ffec7391692aa1eb"
    },
    "kernelspec": {
      "display_name": "Python 3.6.13 ('zichao')",
      "language": "python",
      "name": "python3"
    },
    "language_info": {
      "codemirror_mode": {
        "name": "ipython",
        "version": 3
      },
      "file_extension": ".py",
      "mimetype": "text/x-python",
      "name": "python",
      "nbconvert_exporter": "python",
      "pygments_lexer": "ipython3",
      "version": "3.6.13"
    },
    "orig_nbformat": 4,
    "accelerator": "GPU",
    "gpuClass": "standard"
  },
  "nbformat": 4,
  "nbformat_minor": 0
}