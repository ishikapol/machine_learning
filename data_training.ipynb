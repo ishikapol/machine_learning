{
  "nbformat": 4,
  "nbformat_minor": 0,
  "metadata": {
    "colab": {
      "provenance": []
    },
    "kernelspec": {
      "name": "python3",
      "display_name": "Python 3"
    },
    "language_info": {
      "name": "python"
    },
    "accelerator": "GPU",
    "gpuClass": "standard"
  },
  "cells": [
    {
      "cell_type": "markdown",
      "source": [
        "# CSE 144 Spring 2023 Assignment 1"
      ],
      "metadata": {
        "id": "Y4iZKlK5Ciiu"
      }
    },
    {
      "cell_type": "markdown",
      "source": [
        "This course's initial assignment comprises 10 questions, each carrying a score of 6, amounting to a total score of 60.\n",
        "\n",
        "In this exciting assignment, you'll get the chance to train a logistic regression model and your very own neural network on a real-world dataset! But that's not all – you'll also practice your skills in interacting with Kaggle, the leading platform for machine learning competitions. Get ready to dive in and unleash your data science skills!"
      ],
      "metadata": {
        "id": "6iqqwrG2Ea1Q"
      }
    },
    {
      "cell_type": "code",
      "execution_count": null,
      "metadata": {
        "id": "hxSpAM2a6YxT"
      },
      "outputs": [],
      "source": [
        "import pandas as pd\n",
        "import matplotlib.pyplot as plt\n",
        "%matplotlib inline\n",
        "%config InlineBackend.figure_format=\"retina\"\n",
        "import numpy as np\n",
        "from sklearn.linear_model import LogisticRegression\n",
        "from sklearn.model_selection import train_test_split\n",
        "\n",
        "import random\n",
        "import torch\n",
        "from torch import nn, optim\n",
        "import math\n",
        "from IPython import display\n"
      ]
    },
    {
      "cell_type": "code",
      "source": [
        "from google.colab import drive\n",
        "drive.mount('/content/drive')"
      ],
      "metadata": {
        "colab": {
          "base_uri": "https://localhost:8080/"
        },
        "id": "XVTSdKiubElp",
        "outputId": "7bcc3680-f100-4400-c4f1-2e1ff2f33758"
      },
      "execution_count": null,
      "outputs": [
        {
          "output_type": "stream",
          "name": "stdout",
          "text": [
            "Drive already mounted at /content/drive; to attempt to forcibly remount, call drive.mount(\"/content/drive\", force_remount=True).\n"
          ]
        }
      ]
    },
    {
      "cell_type": "markdown",
      "source": [
        "# Data preparation"
      ],
      "metadata": {
        "id": "hNAMg5iJIC-4"
      }
    },
    {
      "cell_type": "markdown",
      "source": [
        "**Dataset: Customer Churn Prediction 2020**\n",
        "\n",
        "To begin working on this code, it is necessary to obtain the Customer Churn Prediction 2020 dataset, which can be downloaded from the [following page](https://www.kaggle.com/competitions/customer-churn-prediction-2020/overview). After downloading the dataset, you can proceed to upload the train.csv and test.csv files to Colab for accessing them in your notebook."
      ],
      "metadata": {
        "id": "louvhaeXBmiq"
      }
    },
    {
      "cell_type": "markdown",
      "source": [
        "**Load train and test datasets from CSV files**"
      ],
      "metadata": {
        "id": "Tk-cDmWZ-wpc"
      }
    },
    {
      "cell_type": "code",
      "source": [
        "train_df = pd.read_csv(\"/content/drive/MyDrive/Colab Notebooks/train.csv\")\n",
        "test_df = pd.read_csv(\"/content/drive/MyDrive/Colab Notebooks/test.csv\")"
      ],
      "metadata": {
        "id": "MGcWfjzfIFMC"
      },
      "execution_count": null,
      "outputs": []
    },
    {
      "cell_type": "code",
      "source": [
        "train_df.head()"
      ],
      "metadata": {
        "id": "s6WYxdX3IIqs",
        "colab": {
          "base_uri": "https://localhost:8080/",
          "height": 270
        },
        "outputId": "7e1038e1-0fd3-4f0e-cf18-0c81606b9cc0"
      },
      "execution_count": null,
      "outputs": [
        {
          "output_type": "execute_result",
          "data": {
            "text/plain": [
              "  state  account_length      area_code international_plan voice_mail_plan  \\\n",
              "0    OH             107  area_code_415                 no             yes   \n",
              "1    NJ             137  area_code_415                 no              no   \n",
              "2    OH              84  area_code_408                yes              no   \n",
              "3    OK              75  area_code_415                yes              no   \n",
              "4    MA             121  area_code_510                 no             yes   \n",
              "\n",
              "   number_vmail_messages  total_day_minutes  total_day_calls  \\\n",
              "0                     26              161.6              123   \n",
              "1                      0              243.4              114   \n",
              "2                      0              299.4               71   \n",
              "3                      0              166.7              113   \n",
              "4                     24              218.2               88   \n",
              "\n",
              "   total_day_charge  total_eve_minutes  total_eve_calls  total_eve_charge  \\\n",
              "0             27.47              195.5              103             16.62   \n",
              "1             41.38              121.2              110             10.30   \n",
              "2             50.90               61.9               88              5.26   \n",
              "3             28.34              148.3              122             12.61   \n",
              "4             37.09              348.5              108             29.62   \n",
              "\n",
              "   total_night_minutes  total_night_calls  total_night_charge  \\\n",
              "0                254.4                103               11.45   \n",
              "1                162.6                104                7.32   \n",
              "2                196.9                 89                8.86   \n",
              "3                186.9                121                8.41   \n",
              "4                212.6                118                9.57   \n",
              "\n",
              "   total_intl_minutes  total_intl_calls  total_intl_charge  \\\n",
              "0                13.7                 3               3.70   \n",
              "1                12.2                 5               3.29   \n",
              "2                 6.6                 7               1.78   \n",
              "3                10.1                 3               2.73   \n",
              "4                 7.5                 7               2.03   \n",
              "\n",
              "   number_customer_service_calls churn  \n",
              "0                              1    no  \n",
              "1                              0    no  \n",
              "2                              2    no  \n",
              "3                              3    no  \n",
              "4                              3    no  "
            ],
            "text/html": [
              "\n",
              "  <div id=\"df-25e3854e-6b0c-4435-baba-61c7912671ef\">\n",
              "    <div class=\"colab-df-container\">\n",
              "      <div>\n",
              "<style scoped>\n",
              "    .dataframe tbody tr th:only-of-type {\n",
              "        vertical-align: middle;\n",
              "    }\n",
              "\n",
              "    .dataframe tbody tr th {\n",
              "        vertical-align: top;\n",
              "    }\n",
              "\n",
              "    .dataframe thead th {\n",
              "        text-align: right;\n",
              "    }\n",
              "</style>\n",
              "<table border=\"1\" class=\"dataframe\">\n",
              "  <thead>\n",
              "    <tr style=\"text-align: right;\">\n",
              "      <th></th>\n",
              "      <th>state</th>\n",
              "      <th>account_length</th>\n",
              "      <th>area_code</th>\n",
              "      <th>international_plan</th>\n",
              "      <th>voice_mail_plan</th>\n",
              "      <th>number_vmail_messages</th>\n",
              "      <th>total_day_minutes</th>\n",
              "      <th>total_day_calls</th>\n",
              "      <th>total_day_charge</th>\n",
              "      <th>total_eve_minutes</th>\n",
              "      <th>total_eve_calls</th>\n",
              "      <th>total_eve_charge</th>\n",
              "      <th>total_night_minutes</th>\n",
              "      <th>total_night_calls</th>\n",
              "      <th>total_night_charge</th>\n",
              "      <th>total_intl_minutes</th>\n",
              "      <th>total_intl_calls</th>\n",
              "      <th>total_intl_charge</th>\n",
              "      <th>number_customer_service_calls</th>\n",
              "      <th>churn</th>\n",
              "    </tr>\n",
              "  </thead>\n",
              "  <tbody>\n",
              "    <tr>\n",
              "      <th>0</th>\n",
              "      <td>OH</td>\n",
              "      <td>107</td>\n",
              "      <td>area_code_415</td>\n",
              "      <td>no</td>\n",
              "      <td>yes</td>\n",
              "      <td>26</td>\n",
              "      <td>161.6</td>\n",
              "      <td>123</td>\n",
              "      <td>27.47</td>\n",
              "      <td>195.5</td>\n",
              "      <td>103</td>\n",
              "      <td>16.62</td>\n",
              "      <td>254.4</td>\n",
              "      <td>103</td>\n",
              "      <td>11.45</td>\n",
              "      <td>13.7</td>\n",
              "      <td>3</td>\n",
              "      <td>3.70</td>\n",
              "      <td>1</td>\n",
              "      <td>no</td>\n",
              "    </tr>\n",
              "    <tr>\n",
              "      <th>1</th>\n",
              "      <td>NJ</td>\n",
              "      <td>137</td>\n",
              "      <td>area_code_415</td>\n",
              "      <td>no</td>\n",
              "      <td>no</td>\n",
              "      <td>0</td>\n",
              "      <td>243.4</td>\n",
              "      <td>114</td>\n",
              "      <td>41.38</td>\n",
              "      <td>121.2</td>\n",
              "      <td>110</td>\n",
              "      <td>10.30</td>\n",
              "      <td>162.6</td>\n",
              "      <td>104</td>\n",
              "      <td>7.32</td>\n",
              "      <td>12.2</td>\n",
              "      <td>5</td>\n",
              "      <td>3.29</td>\n",
              "      <td>0</td>\n",
              "      <td>no</td>\n",
              "    </tr>\n",
              "    <tr>\n",
              "      <th>2</th>\n",
              "      <td>OH</td>\n",
              "      <td>84</td>\n",
              "      <td>area_code_408</td>\n",
              "      <td>yes</td>\n",
              "      <td>no</td>\n",
              "      <td>0</td>\n",
              "      <td>299.4</td>\n",
              "      <td>71</td>\n",
              "      <td>50.90</td>\n",
              "      <td>61.9</td>\n",
              "      <td>88</td>\n",
              "      <td>5.26</td>\n",
              "      <td>196.9</td>\n",
              "      <td>89</td>\n",
              "      <td>8.86</td>\n",
              "      <td>6.6</td>\n",
              "      <td>7</td>\n",
              "      <td>1.78</td>\n",
              "      <td>2</td>\n",
              "      <td>no</td>\n",
              "    </tr>\n",
              "    <tr>\n",
              "      <th>3</th>\n",
              "      <td>OK</td>\n",
              "      <td>75</td>\n",
              "      <td>area_code_415</td>\n",
              "      <td>yes</td>\n",
              "      <td>no</td>\n",
              "      <td>0</td>\n",
              "      <td>166.7</td>\n",
              "      <td>113</td>\n",
              "      <td>28.34</td>\n",
              "      <td>148.3</td>\n",
              "      <td>122</td>\n",
              "      <td>12.61</td>\n",
              "      <td>186.9</td>\n",
              "      <td>121</td>\n",
              "      <td>8.41</td>\n",
              "      <td>10.1</td>\n",
              "      <td>3</td>\n",
              "      <td>2.73</td>\n",
              "      <td>3</td>\n",
              "      <td>no</td>\n",
              "    </tr>\n",
              "    <tr>\n",
              "      <th>4</th>\n",
              "      <td>MA</td>\n",
              "      <td>121</td>\n",
              "      <td>area_code_510</td>\n",
              "      <td>no</td>\n",
              "      <td>yes</td>\n",
              "      <td>24</td>\n",
              "      <td>218.2</td>\n",
              "      <td>88</td>\n",
              "      <td>37.09</td>\n",
              "      <td>348.5</td>\n",
              "      <td>108</td>\n",
              "      <td>29.62</td>\n",
              "      <td>212.6</td>\n",
              "      <td>118</td>\n",
              "      <td>9.57</td>\n",
              "      <td>7.5</td>\n",
              "      <td>7</td>\n",
              "      <td>2.03</td>\n",
              "      <td>3</td>\n",
              "      <td>no</td>\n",
              "    </tr>\n",
              "  </tbody>\n",
              "</table>\n",
              "</div>\n",
              "      <button class=\"colab-df-convert\" onclick=\"convertToInteractive('df-25e3854e-6b0c-4435-baba-61c7912671ef')\"\n",
              "              title=\"Convert this dataframe to an interactive table.\"\n",
              "              style=\"display:none;\">\n",
              "        \n",
              "  <svg xmlns=\"http://www.w3.org/2000/svg\" height=\"24px\"viewBox=\"0 0 24 24\"\n",
              "       width=\"24px\">\n",
              "    <path d=\"M0 0h24v24H0V0z\" fill=\"none\"/>\n",
              "    <path d=\"M18.56 5.44l.94 2.06.94-2.06 2.06-.94-2.06-.94-.94-2.06-.94 2.06-2.06.94zm-11 1L8.5 8.5l.94-2.06 2.06-.94-2.06-.94L8.5 2.5l-.94 2.06-2.06.94zm10 10l.94 2.06.94-2.06 2.06-.94-2.06-.94-.94-2.06-.94 2.06-2.06.94z\"/><path d=\"M17.41 7.96l-1.37-1.37c-.4-.4-.92-.59-1.43-.59-.52 0-1.04.2-1.43.59L10.3 9.45l-7.72 7.72c-.78.78-.78 2.05 0 2.83L4 21.41c.39.39.9.59 1.41.59.51 0 1.02-.2 1.41-.59l7.78-7.78 2.81-2.81c.8-.78.8-2.07 0-2.86zM5.41 20L4 18.59l7.72-7.72 1.47 1.35L5.41 20z\"/>\n",
              "  </svg>\n",
              "      </button>\n",
              "      \n",
              "  <style>\n",
              "    .colab-df-container {\n",
              "      display:flex;\n",
              "      flex-wrap:wrap;\n",
              "      gap: 12px;\n",
              "    }\n",
              "\n",
              "    .colab-df-convert {\n",
              "      background-color: #E8F0FE;\n",
              "      border: none;\n",
              "      border-radius: 50%;\n",
              "      cursor: pointer;\n",
              "      display: none;\n",
              "      fill: #1967D2;\n",
              "      height: 32px;\n",
              "      padding: 0 0 0 0;\n",
              "      width: 32px;\n",
              "    }\n",
              "\n",
              "    .colab-df-convert:hover {\n",
              "      background-color: #E2EBFA;\n",
              "      box-shadow: 0px 1px 2px rgba(60, 64, 67, 0.3), 0px 1px 3px 1px rgba(60, 64, 67, 0.15);\n",
              "      fill: #174EA6;\n",
              "    }\n",
              "\n",
              "    [theme=dark] .colab-df-convert {\n",
              "      background-color: #3B4455;\n",
              "      fill: #D2E3FC;\n",
              "    }\n",
              "\n",
              "    [theme=dark] .colab-df-convert:hover {\n",
              "      background-color: #434B5C;\n",
              "      box-shadow: 0px 1px 3px 1px rgba(0, 0, 0, 0.15);\n",
              "      filter: drop-shadow(0px 1px 2px rgba(0, 0, 0, 0.3));\n",
              "      fill: #FFFFFF;\n",
              "    }\n",
              "  </style>\n",
              "\n",
              "      <script>\n",
              "        const buttonEl =\n",
              "          document.querySelector('#df-25e3854e-6b0c-4435-baba-61c7912671ef button.colab-df-convert');\n",
              "        buttonEl.style.display =\n",
              "          google.colab.kernel.accessAllowed ? 'block' : 'none';\n",
              "\n",
              "        async function convertToInteractive(key) {\n",
              "          const element = document.querySelector('#df-25e3854e-6b0c-4435-baba-61c7912671ef');\n",
              "          const dataTable =\n",
              "            await google.colab.kernel.invokeFunction('convertToInteractive',\n",
              "                                                     [key], {});\n",
              "          if (!dataTable) return;\n",
              "\n",
              "          const docLinkHtml = 'Like what you see? Visit the ' +\n",
              "            '<a target=\"_blank\" href=https://colab.research.google.com/notebooks/data_table.ipynb>data table notebook</a>'\n",
              "            + ' to learn more about interactive tables.';\n",
              "          element.innerHTML = '';\n",
              "          dataTable['output_type'] = 'display_data';\n",
              "          await google.colab.output.renderOutput(dataTable, element);\n",
              "          const docLink = document.createElement('div');\n",
              "          docLink.innerHTML = docLinkHtml;\n",
              "          element.appendChild(docLink);\n",
              "        }\n",
              "      </script>\n",
              "    </div>\n",
              "  </div>\n",
              "  "
            ]
          },
          "metadata": {},
          "execution_count": 4
        }
      ]
    },
    {
      "cell_type": "code",
      "source": [
        "train_df.describe()"
      ],
      "metadata": {
        "id": "2fRoNwsy2VtO",
        "colab": {
          "base_uri": "https://localhost:8080/",
          "height": 364
        },
        "outputId": "d6a59e5b-877b-4739-cfb3-6ffbce7c9863"
      },
      "execution_count": null,
      "outputs": [
        {
          "output_type": "execute_result",
          "data": {
            "text/plain": [
              "       account_length  number_vmail_messages  total_day_minutes  \\\n",
              "count     4250.000000            4250.000000        4250.000000   \n",
              "mean       100.236235               7.631765         180.259600   \n",
              "std         39.698401              13.439882          54.012373   \n",
              "min          1.000000               0.000000           0.000000   \n",
              "25%         73.000000               0.000000         143.325000   \n",
              "50%        100.000000               0.000000         180.450000   \n",
              "75%        127.000000              16.000000         216.200000   \n",
              "max        243.000000              52.000000         351.500000   \n",
              "\n",
              "       total_day_calls  total_day_charge  total_eve_minutes  total_eve_calls  \\\n",
              "count      4250.000000       4250.000000        4250.000000      4250.000000   \n",
              "mean         99.907294         30.644682         200.173906       100.176471   \n",
              "std          19.850817          9.182096          50.249518        19.908591   \n",
              "min           0.000000          0.000000           0.000000         0.000000   \n",
              "25%          87.000000         24.365000         165.925000        87.000000   \n",
              "50%         100.000000         30.680000         200.700000       100.000000   \n",
              "75%         113.000000         36.750000         233.775000       114.000000   \n",
              "max         165.000000         59.760000         359.300000       170.000000   \n",
              "\n",
              "       total_eve_charge  total_night_minutes  total_night_calls  \\\n",
              "count       4250.000000          4250.000000        4250.000000   \n",
              "mean          17.015012           200.527882          99.839529   \n",
              "std            4.271212            50.353548          20.093220   \n",
              "min            0.000000             0.000000           0.000000   \n",
              "25%           14.102500           167.225000          86.000000   \n",
              "50%           17.060000           200.450000         100.000000   \n",
              "75%           19.867500           234.700000         113.000000   \n",
              "max           30.540000           395.000000         175.000000   \n",
              "\n",
              "       total_night_charge  total_intl_minutes  total_intl_calls  \\\n",
              "count         4250.000000         4250.000000       4250.000000   \n",
              "mean             9.023892           10.256071          4.426353   \n",
              "std              2.265922            2.760102          2.463069   \n",
              "min              0.000000            0.000000          0.000000   \n",
              "25%              7.522500            8.500000          3.000000   \n",
              "50%              9.020000           10.300000          4.000000   \n",
              "75%             10.560000           12.000000          6.000000   \n",
              "max             17.770000           20.000000         20.000000   \n",
              "\n",
              "       total_intl_charge  number_customer_service_calls  \n",
              "count        4250.000000                    4250.000000  \n",
              "mean            2.769654                       1.559059  \n",
              "std             0.745204                       1.311434  \n",
              "min             0.000000                       0.000000  \n",
              "25%             2.300000                       1.000000  \n",
              "50%             2.780000                       1.000000  \n",
              "75%             3.240000                       2.000000  \n",
              "max             5.400000                       9.000000  "
            ],
            "text/html": [
              "\n",
              "  <div id=\"df-59d6b82b-bf09-415e-9f57-878dd7d4d415\">\n",
              "    <div class=\"colab-df-container\">\n",
              "      <div>\n",
              "<style scoped>\n",
              "    .dataframe tbody tr th:only-of-type {\n",
              "        vertical-align: middle;\n",
              "    }\n",
              "\n",
              "    .dataframe tbody tr th {\n",
              "        vertical-align: top;\n",
              "    }\n",
              "\n",
              "    .dataframe thead th {\n",
              "        text-align: right;\n",
              "    }\n",
              "</style>\n",
              "<table border=\"1\" class=\"dataframe\">\n",
              "  <thead>\n",
              "    <tr style=\"text-align: right;\">\n",
              "      <th></th>\n",
              "      <th>account_length</th>\n",
              "      <th>number_vmail_messages</th>\n",
              "      <th>total_day_minutes</th>\n",
              "      <th>total_day_calls</th>\n",
              "      <th>total_day_charge</th>\n",
              "      <th>total_eve_minutes</th>\n",
              "      <th>total_eve_calls</th>\n",
              "      <th>total_eve_charge</th>\n",
              "      <th>total_night_minutes</th>\n",
              "      <th>total_night_calls</th>\n",
              "      <th>total_night_charge</th>\n",
              "      <th>total_intl_minutes</th>\n",
              "      <th>total_intl_calls</th>\n",
              "      <th>total_intl_charge</th>\n",
              "      <th>number_customer_service_calls</th>\n",
              "    </tr>\n",
              "  </thead>\n",
              "  <tbody>\n",
              "    <tr>\n",
              "      <th>count</th>\n",
              "      <td>4250.000000</td>\n",
              "      <td>4250.000000</td>\n",
              "      <td>4250.000000</td>\n",
              "      <td>4250.000000</td>\n",
              "      <td>4250.000000</td>\n",
              "      <td>4250.000000</td>\n",
              "      <td>4250.000000</td>\n",
              "      <td>4250.000000</td>\n",
              "      <td>4250.000000</td>\n",
              "      <td>4250.000000</td>\n",
              "      <td>4250.000000</td>\n",
              "      <td>4250.000000</td>\n",
              "      <td>4250.000000</td>\n",
              "      <td>4250.000000</td>\n",
              "      <td>4250.000000</td>\n",
              "    </tr>\n",
              "    <tr>\n",
              "      <th>mean</th>\n",
              "      <td>100.236235</td>\n",
              "      <td>7.631765</td>\n",
              "      <td>180.259600</td>\n",
              "      <td>99.907294</td>\n",
              "      <td>30.644682</td>\n",
              "      <td>200.173906</td>\n",
              "      <td>100.176471</td>\n",
              "      <td>17.015012</td>\n",
              "      <td>200.527882</td>\n",
              "      <td>99.839529</td>\n",
              "      <td>9.023892</td>\n",
              "      <td>10.256071</td>\n",
              "      <td>4.426353</td>\n",
              "      <td>2.769654</td>\n",
              "      <td>1.559059</td>\n",
              "    </tr>\n",
              "    <tr>\n",
              "      <th>std</th>\n",
              "      <td>39.698401</td>\n",
              "      <td>13.439882</td>\n",
              "      <td>54.012373</td>\n",
              "      <td>19.850817</td>\n",
              "      <td>9.182096</td>\n",
              "      <td>50.249518</td>\n",
              "      <td>19.908591</td>\n",
              "      <td>4.271212</td>\n",
              "      <td>50.353548</td>\n",
              "      <td>20.093220</td>\n",
              "      <td>2.265922</td>\n",
              "      <td>2.760102</td>\n",
              "      <td>2.463069</td>\n",
              "      <td>0.745204</td>\n",
              "      <td>1.311434</td>\n",
              "    </tr>\n",
              "    <tr>\n",
              "      <th>min</th>\n",
              "      <td>1.000000</td>\n",
              "      <td>0.000000</td>\n",
              "      <td>0.000000</td>\n",
              "      <td>0.000000</td>\n",
              "      <td>0.000000</td>\n",
              "      <td>0.000000</td>\n",
              "      <td>0.000000</td>\n",
              "      <td>0.000000</td>\n",
              "      <td>0.000000</td>\n",
              "      <td>0.000000</td>\n",
              "      <td>0.000000</td>\n",
              "      <td>0.000000</td>\n",
              "      <td>0.000000</td>\n",
              "      <td>0.000000</td>\n",
              "      <td>0.000000</td>\n",
              "    </tr>\n",
              "    <tr>\n",
              "      <th>25%</th>\n",
              "      <td>73.000000</td>\n",
              "      <td>0.000000</td>\n",
              "      <td>143.325000</td>\n",
              "      <td>87.000000</td>\n",
              "      <td>24.365000</td>\n",
              "      <td>165.925000</td>\n",
              "      <td>87.000000</td>\n",
              "      <td>14.102500</td>\n",
              "      <td>167.225000</td>\n",
              "      <td>86.000000</td>\n",
              "      <td>7.522500</td>\n",
              "      <td>8.500000</td>\n",
              "      <td>3.000000</td>\n",
              "      <td>2.300000</td>\n",
              "      <td>1.000000</td>\n",
              "    </tr>\n",
              "    <tr>\n",
              "      <th>50%</th>\n",
              "      <td>100.000000</td>\n",
              "      <td>0.000000</td>\n",
              "      <td>180.450000</td>\n",
              "      <td>100.000000</td>\n",
              "      <td>30.680000</td>\n",
              "      <td>200.700000</td>\n",
              "      <td>100.000000</td>\n",
              "      <td>17.060000</td>\n",
              "      <td>200.450000</td>\n",
              "      <td>100.000000</td>\n",
              "      <td>9.020000</td>\n",
              "      <td>10.300000</td>\n",
              "      <td>4.000000</td>\n",
              "      <td>2.780000</td>\n",
              "      <td>1.000000</td>\n",
              "    </tr>\n",
              "    <tr>\n",
              "      <th>75%</th>\n",
              "      <td>127.000000</td>\n",
              "      <td>16.000000</td>\n",
              "      <td>216.200000</td>\n",
              "      <td>113.000000</td>\n",
              "      <td>36.750000</td>\n",
              "      <td>233.775000</td>\n",
              "      <td>114.000000</td>\n",
              "      <td>19.867500</td>\n",
              "      <td>234.700000</td>\n",
              "      <td>113.000000</td>\n",
              "      <td>10.560000</td>\n",
              "      <td>12.000000</td>\n",
              "      <td>6.000000</td>\n",
              "      <td>3.240000</td>\n",
              "      <td>2.000000</td>\n",
              "    </tr>\n",
              "    <tr>\n",
              "      <th>max</th>\n",
              "      <td>243.000000</td>\n",
              "      <td>52.000000</td>\n",
              "      <td>351.500000</td>\n",
              "      <td>165.000000</td>\n",
              "      <td>59.760000</td>\n",
              "      <td>359.300000</td>\n",
              "      <td>170.000000</td>\n",
              "      <td>30.540000</td>\n",
              "      <td>395.000000</td>\n",
              "      <td>175.000000</td>\n",
              "      <td>17.770000</td>\n",
              "      <td>20.000000</td>\n",
              "      <td>20.000000</td>\n",
              "      <td>5.400000</td>\n",
              "      <td>9.000000</td>\n",
              "    </tr>\n",
              "  </tbody>\n",
              "</table>\n",
              "</div>\n",
              "      <button class=\"colab-df-convert\" onclick=\"convertToInteractive('df-59d6b82b-bf09-415e-9f57-878dd7d4d415')\"\n",
              "              title=\"Convert this dataframe to an interactive table.\"\n",
              "              style=\"display:none;\">\n",
              "        \n",
              "  <svg xmlns=\"http://www.w3.org/2000/svg\" height=\"24px\"viewBox=\"0 0 24 24\"\n",
              "       width=\"24px\">\n",
              "    <path d=\"M0 0h24v24H0V0z\" fill=\"none\"/>\n",
              "    <path d=\"M18.56 5.44l.94 2.06.94-2.06 2.06-.94-2.06-.94-.94-2.06-.94 2.06-2.06.94zm-11 1L8.5 8.5l.94-2.06 2.06-.94-2.06-.94L8.5 2.5l-.94 2.06-2.06.94zm10 10l.94 2.06.94-2.06 2.06-.94-2.06-.94-.94-2.06-.94 2.06-2.06.94z\"/><path d=\"M17.41 7.96l-1.37-1.37c-.4-.4-.92-.59-1.43-.59-.52 0-1.04.2-1.43.59L10.3 9.45l-7.72 7.72c-.78.78-.78 2.05 0 2.83L4 21.41c.39.39.9.59 1.41.59.51 0 1.02-.2 1.41-.59l7.78-7.78 2.81-2.81c.8-.78.8-2.07 0-2.86zM5.41 20L4 18.59l7.72-7.72 1.47 1.35L5.41 20z\"/>\n",
              "  </svg>\n",
              "      </button>\n",
              "      \n",
              "  <style>\n",
              "    .colab-df-container {\n",
              "      display:flex;\n",
              "      flex-wrap:wrap;\n",
              "      gap: 12px;\n",
              "    }\n",
              "\n",
              "    .colab-df-convert {\n",
              "      background-color: #E8F0FE;\n",
              "      border: none;\n",
              "      border-radius: 50%;\n",
              "      cursor: pointer;\n",
              "      display: none;\n",
              "      fill: #1967D2;\n",
              "      height: 32px;\n",
              "      padding: 0 0 0 0;\n",
              "      width: 32px;\n",
              "    }\n",
              "\n",
              "    .colab-df-convert:hover {\n",
              "      background-color: #E2EBFA;\n",
              "      box-shadow: 0px 1px 2px rgba(60, 64, 67, 0.3), 0px 1px 3px 1px rgba(60, 64, 67, 0.15);\n",
              "      fill: #174EA6;\n",
              "    }\n",
              "\n",
              "    [theme=dark] .colab-df-convert {\n",
              "      background-color: #3B4455;\n",
              "      fill: #D2E3FC;\n",
              "    }\n",
              "\n",
              "    [theme=dark] .colab-df-convert:hover {\n",
              "      background-color: #434B5C;\n",
              "      box-shadow: 0px 1px 3px 1px rgba(0, 0, 0, 0.15);\n",
              "      filter: drop-shadow(0px 1px 2px rgba(0, 0, 0, 0.3));\n",
              "      fill: #FFFFFF;\n",
              "    }\n",
              "  </style>\n",
              "\n",
              "      <script>\n",
              "        const buttonEl =\n",
              "          document.querySelector('#df-59d6b82b-bf09-415e-9f57-878dd7d4d415 button.colab-df-convert');\n",
              "        buttonEl.style.display =\n",
              "          google.colab.kernel.accessAllowed ? 'block' : 'none';\n",
              "\n",
              "        async function convertToInteractive(key) {\n",
              "          const element = document.querySelector('#df-59d6b82b-bf09-415e-9f57-878dd7d4d415');\n",
              "          const dataTable =\n",
              "            await google.colab.kernel.invokeFunction('convertToInteractive',\n",
              "                                                     [key], {});\n",
              "          if (!dataTable) return;\n",
              "\n",
              "          const docLinkHtml = 'Like what you see? Visit the ' +\n",
              "            '<a target=\"_blank\" href=https://colab.research.google.com/notebooks/data_table.ipynb>data table notebook</a>'\n",
              "            + ' to learn more about interactive tables.';\n",
              "          element.innerHTML = '';\n",
              "          dataTable['output_type'] = 'display_data';\n",
              "          await google.colab.output.renderOutput(dataTable, element);\n",
              "          const docLink = document.createElement('div');\n",
              "          docLink.innerHTML = docLinkHtml;\n",
              "          element.appendChild(docLink);\n",
              "        }\n",
              "      </script>\n",
              "    </div>\n",
              "  </div>\n",
              "  "
            ]
          },
          "metadata": {},
          "execution_count": 5
        }
      ]
    },
    {
      "cell_type": "markdown",
      "source": [
        "**Setting a Seed for Random Number Generators in Python and PyTorch**"
      ],
      "metadata": {
        "id": "vQUpm_yeqy73"
      }
    },
    {
      "cell_type": "code",
      "source": [
        "seed = 1\n",
        "random.seed(seed)\n",
        "torch.manual_seed(seed)"
      ],
      "metadata": {
        "id": "G2XF2dYaqwPQ",
        "colab": {
          "base_uri": "https://localhost:8080/"
        },
        "outputId": "7364f597-e21a-4299-80ee-a8b60beffc9f"
      },
      "execution_count": null,
      "outputs": [
        {
          "output_type": "execute_result",
          "data": {
            "text/plain": [
              "<torch._C.Generator at 0x7fbbbdf65670>"
            ]
          },
          "metadata": {},
          "execution_count": 6
        }
      ]
    },
    {
      "cell_type": "markdown",
      "source": [
        "**Shuffle the training data**"
      ],
      "metadata": {
        "id": "RZ-VkIjWrG1y"
      }
    },
    {
      "cell_type": "code",
      "source": [
        "# Show first five elements in the input\n",
        "def show_first_five_elements(input):\n",
        "  return list(input)[:5]\n",
        "\n",
        "train_df_index = train_df.index\n",
        "print(f\"Initial index of train_df: {show_first_five_elements(train_df_index)}\")\n",
        "\n",
        "shuffled_index = np.random.permutation(train_df.index)\n",
        "print(f\"Shuffled index: {show_first_five_elements(shuffled_index)}\")\n",
        "\n",
        "train_df = train_df.reindex(shuffled_index)\n",
        "print(f\"Shuffled index of train_df: {show_first_five_elements(train_df.index)}\")\n",
        "\n",
        "print(\"\\nThe examples in train_df are shuffled:\")\n",
        "train_df.head()"
      ],
      "metadata": {
        "id": "MIoas4LNqNJW",
        "colab": {
          "base_uri": "https://localhost:8080/",
          "height": 359
        },
        "outputId": "825f24d5-9a28-4a1a-ac51-418e1d69dbd6"
      },
      "execution_count": null,
      "outputs": [
        {
          "output_type": "stream",
          "name": "stdout",
          "text": [
            "Initial index of train_df: [0, 1, 2, 3, 4]\n",
            "Shuffled index: [1844, 1920, 3727, 3964, 3496]\n",
            "Shuffled index of train_df: [1844, 1920, 3727, 3964, 3496]\n",
            "\n",
            "The examples in train_df are shuffled:\n"
          ]
        },
        {
          "output_type": "execute_result",
          "data": {
            "text/plain": [
              "     state  account_length      area_code international_plan voice_mail_plan  \\\n",
              "1844    CA             120  area_code_510                 no              no   \n",
              "1920    WY              94  area_code_408                 no              no   \n",
              "3727    VA             100  area_code_415                 no              no   \n",
              "3964    WA              64  area_code_510                 no              no   \n",
              "3496    ME             120  area_code_510                 no              no   \n",
              "\n",
              "      number_vmail_messages  total_day_minutes  total_day_calls  \\\n",
              "1844                      0              134.8               94   \n",
              "1920                      0              207.0              109   \n",
              "3727                      0              200.7              151   \n",
              "3964                      0               50.6               91   \n",
              "3496                      0              163.6              109   \n",
              "\n",
              "      total_day_charge  total_eve_minutes  total_eve_calls  total_eve_charge  \\\n",
              "1844             22.92              204.1              106             17.35   \n",
              "1920             35.19              167.4               80             14.23   \n",
              "3727             34.12              290.8              127             24.72   \n",
              "3964              8.60              308.9               78             26.26   \n",
              "3496             27.81              237.3               95             20.17   \n",
              "\n",
              "      total_night_minutes  total_night_calls  total_night_charge  \\\n",
              "1844                238.4                109               10.73   \n",
              "1920                238.2                117               10.72   \n",
              "3727                186.7                105                8.40   \n",
              "3964                255.4                114               11.49   \n",
              "3496                186.2                141                8.38   \n",
              "\n",
              "      total_intl_minutes  total_intl_calls  total_intl_charge  \\\n",
              "1844                 6.7                 8               1.81   \n",
              "1920                 2.6                 6               0.70   \n",
              "3727                10.2                 9               2.75   \n",
              "3964                13.7                 5               3.70   \n",
              "3496                12.3                 5               3.32   \n",
              "\n",
              "      number_customer_service_calls churn  \n",
              "1844                              1    no  \n",
              "1920                              1    no  \n",
              "3727                              1    no  \n",
              "3964                              2    no  \n",
              "3496                              0    no  "
            ],
            "text/html": [
              "\n",
              "  <div id=\"df-9713cc65-26eb-40d5-997f-80fc308d9dc5\">\n",
              "    <div class=\"colab-df-container\">\n",
              "      <div>\n",
              "<style scoped>\n",
              "    .dataframe tbody tr th:only-of-type {\n",
              "        vertical-align: middle;\n",
              "    }\n",
              "\n",
              "    .dataframe tbody tr th {\n",
              "        vertical-align: top;\n",
              "    }\n",
              "\n",
              "    .dataframe thead th {\n",
              "        text-align: right;\n",
              "    }\n",
              "</style>\n",
              "<table border=\"1\" class=\"dataframe\">\n",
              "  <thead>\n",
              "    <tr style=\"text-align: right;\">\n",
              "      <th></th>\n",
              "      <th>state</th>\n",
              "      <th>account_length</th>\n",
              "      <th>area_code</th>\n",
              "      <th>international_plan</th>\n",
              "      <th>voice_mail_plan</th>\n",
              "      <th>number_vmail_messages</th>\n",
              "      <th>total_day_minutes</th>\n",
              "      <th>total_day_calls</th>\n",
              "      <th>total_day_charge</th>\n",
              "      <th>total_eve_minutes</th>\n",
              "      <th>total_eve_calls</th>\n",
              "      <th>total_eve_charge</th>\n",
              "      <th>total_night_minutes</th>\n",
              "      <th>total_night_calls</th>\n",
              "      <th>total_night_charge</th>\n",
              "      <th>total_intl_minutes</th>\n",
              "      <th>total_intl_calls</th>\n",
              "      <th>total_intl_charge</th>\n",
              "      <th>number_customer_service_calls</th>\n",
              "      <th>churn</th>\n",
              "    </tr>\n",
              "  </thead>\n",
              "  <tbody>\n",
              "    <tr>\n",
              "      <th>1844</th>\n",
              "      <td>CA</td>\n",
              "      <td>120</td>\n",
              "      <td>area_code_510</td>\n",
              "      <td>no</td>\n",
              "      <td>no</td>\n",
              "      <td>0</td>\n",
              "      <td>134.8</td>\n",
              "      <td>94</td>\n",
              "      <td>22.92</td>\n",
              "      <td>204.1</td>\n",
              "      <td>106</td>\n",
              "      <td>17.35</td>\n",
              "      <td>238.4</td>\n",
              "      <td>109</td>\n",
              "      <td>10.73</td>\n",
              "      <td>6.7</td>\n",
              "      <td>8</td>\n",
              "      <td>1.81</td>\n",
              "      <td>1</td>\n",
              "      <td>no</td>\n",
              "    </tr>\n",
              "    <tr>\n",
              "      <th>1920</th>\n",
              "      <td>WY</td>\n",
              "      <td>94</td>\n",
              "      <td>area_code_408</td>\n",
              "      <td>no</td>\n",
              "      <td>no</td>\n",
              "      <td>0</td>\n",
              "      <td>207.0</td>\n",
              "      <td>109</td>\n",
              "      <td>35.19</td>\n",
              "      <td>167.4</td>\n",
              "      <td>80</td>\n",
              "      <td>14.23</td>\n",
              "      <td>238.2</td>\n",
              "      <td>117</td>\n",
              "      <td>10.72</td>\n",
              "      <td>2.6</td>\n",
              "      <td>6</td>\n",
              "      <td>0.70</td>\n",
              "      <td>1</td>\n",
              "      <td>no</td>\n",
              "    </tr>\n",
              "    <tr>\n",
              "      <th>3727</th>\n",
              "      <td>VA</td>\n",
              "      <td>100</td>\n",
              "      <td>area_code_415</td>\n",
              "      <td>no</td>\n",
              "      <td>no</td>\n",
              "      <td>0</td>\n",
              "      <td>200.7</td>\n",
              "      <td>151</td>\n",
              "      <td>34.12</td>\n",
              "      <td>290.8</td>\n",
              "      <td>127</td>\n",
              "      <td>24.72</td>\n",
              "      <td>186.7</td>\n",
              "      <td>105</td>\n",
              "      <td>8.40</td>\n",
              "      <td>10.2</td>\n",
              "      <td>9</td>\n",
              "      <td>2.75</td>\n",
              "      <td>1</td>\n",
              "      <td>no</td>\n",
              "    </tr>\n",
              "    <tr>\n",
              "      <th>3964</th>\n",
              "      <td>WA</td>\n",
              "      <td>64</td>\n",
              "      <td>area_code_510</td>\n",
              "      <td>no</td>\n",
              "      <td>no</td>\n",
              "      <td>0</td>\n",
              "      <td>50.6</td>\n",
              "      <td>91</td>\n",
              "      <td>8.60</td>\n",
              "      <td>308.9</td>\n",
              "      <td>78</td>\n",
              "      <td>26.26</td>\n",
              "      <td>255.4</td>\n",
              "      <td>114</td>\n",
              "      <td>11.49</td>\n",
              "      <td>13.7</td>\n",
              "      <td>5</td>\n",
              "      <td>3.70</td>\n",
              "      <td>2</td>\n",
              "      <td>no</td>\n",
              "    </tr>\n",
              "    <tr>\n",
              "      <th>3496</th>\n",
              "      <td>ME</td>\n",
              "      <td>120</td>\n",
              "      <td>area_code_510</td>\n",
              "      <td>no</td>\n",
              "      <td>no</td>\n",
              "      <td>0</td>\n",
              "      <td>163.6</td>\n",
              "      <td>109</td>\n",
              "      <td>27.81</td>\n",
              "      <td>237.3</td>\n",
              "      <td>95</td>\n",
              "      <td>20.17</td>\n",
              "      <td>186.2</td>\n",
              "      <td>141</td>\n",
              "      <td>8.38</td>\n",
              "      <td>12.3</td>\n",
              "      <td>5</td>\n",
              "      <td>3.32</td>\n",
              "      <td>0</td>\n",
              "      <td>no</td>\n",
              "    </tr>\n",
              "  </tbody>\n",
              "</table>\n",
              "</div>\n",
              "      <button class=\"colab-df-convert\" onclick=\"convertToInteractive('df-9713cc65-26eb-40d5-997f-80fc308d9dc5')\"\n",
              "              title=\"Convert this dataframe to an interactive table.\"\n",
              "              style=\"display:none;\">\n",
              "        \n",
              "  <svg xmlns=\"http://www.w3.org/2000/svg\" height=\"24px\"viewBox=\"0 0 24 24\"\n",
              "       width=\"24px\">\n",
              "    <path d=\"M0 0h24v24H0V0z\" fill=\"none\"/>\n",
              "    <path d=\"M18.56 5.44l.94 2.06.94-2.06 2.06-.94-2.06-.94-.94-2.06-.94 2.06-2.06.94zm-11 1L8.5 8.5l.94-2.06 2.06-.94-2.06-.94L8.5 2.5l-.94 2.06-2.06.94zm10 10l.94 2.06.94-2.06 2.06-.94-2.06-.94-.94-2.06-.94 2.06-2.06.94z\"/><path d=\"M17.41 7.96l-1.37-1.37c-.4-.4-.92-.59-1.43-.59-.52 0-1.04.2-1.43.59L10.3 9.45l-7.72 7.72c-.78.78-.78 2.05 0 2.83L4 21.41c.39.39.9.59 1.41.59.51 0 1.02-.2 1.41-.59l7.78-7.78 2.81-2.81c.8-.78.8-2.07 0-2.86zM5.41 20L4 18.59l7.72-7.72 1.47 1.35L5.41 20z\"/>\n",
              "  </svg>\n",
              "      </button>\n",
              "      \n",
              "  <style>\n",
              "    .colab-df-container {\n",
              "      display:flex;\n",
              "      flex-wrap:wrap;\n",
              "      gap: 12px;\n",
              "    }\n",
              "\n",
              "    .colab-df-convert {\n",
              "      background-color: #E8F0FE;\n",
              "      border: none;\n",
              "      border-radius: 50%;\n",
              "      cursor: pointer;\n",
              "      display: none;\n",
              "      fill: #1967D2;\n",
              "      height: 32px;\n",
              "      padding: 0 0 0 0;\n",
              "      width: 32px;\n",
              "    }\n",
              "\n",
              "    .colab-df-convert:hover {\n",
              "      background-color: #E2EBFA;\n",
              "      box-shadow: 0px 1px 2px rgba(60, 64, 67, 0.3), 0px 1px 3px 1px rgba(60, 64, 67, 0.15);\n",
              "      fill: #174EA6;\n",
              "    }\n",
              "\n",
              "    [theme=dark] .colab-df-convert {\n",
              "      background-color: #3B4455;\n",
              "      fill: #D2E3FC;\n",
              "    }\n",
              "\n",
              "    [theme=dark] .colab-df-convert:hover {\n",
              "      background-color: #434B5C;\n",
              "      box-shadow: 0px 1px 3px 1px rgba(0, 0, 0, 0.15);\n",
              "      filter: drop-shadow(0px 1px 2px rgba(0, 0, 0, 0.3));\n",
              "      fill: #FFFFFF;\n",
              "    }\n",
              "  </style>\n",
              "\n",
              "      <script>\n",
              "        const buttonEl =\n",
              "          document.querySelector('#df-9713cc65-26eb-40d5-997f-80fc308d9dc5 button.colab-df-convert');\n",
              "        buttonEl.style.display =\n",
              "          google.colab.kernel.accessAllowed ? 'block' : 'none';\n",
              "\n",
              "        async function convertToInteractive(key) {\n",
              "          const element = document.querySelector('#df-9713cc65-26eb-40d5-997f-80fc308d9dc5');\n",
              "          const dataTable =\n",
              "            await google.colab.kernel.invokeFunction('convertToInteractive',\n",
              "                                                     [key], {});\n",
              "          if (!dataTable) return;\n",
              "\n",
              "          const docLinkHtml = 'Like what you see? Visit the ' +\n",
              "            '<a target=\"_blank\" href=https://colab.research.google.com/notebooks/data_table.ipynb>data table notebook</a>'\n",
              "            + ' to learn more about interactive tables.';\n",
              "          element.innerHTML = '';\n",
              "          dataTable['output_type'] = 'display_data';\n",
              "          await google.colab.output.renderOutput(dataTable, element);\n",
              "          const docLink = document.createElement('div');\n",
              "          docLink.innerHTML = docLinkHtml;\n",
              "          element.appendChild(docLink);\n",
              "        }\n",
              "      </script>\n",
              "    </div>\n",
              "  </div>\n",
              "  "
            ]
          },
          "metadata": {},
          "execution_count": 7
        }
      ]
    },
    {
      "cell_type": "markdown",
      "source": [
        "**Selecting features for training and testing**"
      ],
      "metadata": {
        "id": "iccr8Rss-lus"
      }
    },
    {
      "cell_type": "code",
      "source": [
        "X = train_df[['state', 'account_length', 'area_code', 'international_plan',\n",
        "       'voice_mail_plan', 'number_vmail_messages', 'total_day_minutes',\n",
        "       'total_day_calls', 'total_day_charge', 'total_eve_minutes',\n",
        "       'total_eve_calls', 'total_eve_charge', 'total_night_minutes',\n",
        "       'total_night_calls', 'total_night_charge', 'total_intl_minutes',\n",
        "       'total_intl_calls', 'total_intl_charge',\n",
        "       'number_customer_service_calls']]\n",
        "Y = train_df['churn']\n",
        "\n",
        "X_test = test_df[['state', 'account_length', 'area_code', 'international_plan',\n",
        "       'voice_mail_plan', 'number_vmail_messages', 'total_day_minutes',\n",
        "       'total_day_calls', 'total_day_charge', 'total_eve_minutes',\n",
        "       'total_eve_calls', 'total_eve_charge', 'total_night_minutes',\n",
        "       'total_night_calls', 'total_night_charge', 'total_intl_minutes',\n",
        "       'total_intl_calls', 'total_intl_charge',\n",
        "       'number_customer_service_calls']]\n",
        "\n",
        "test_id = test_df['id']"
      ],
      "metadata": {
        "id": "-od2VeEEIXOg"
      },
      "execution_count": null,
      "outputs": []
    },
    {
      "cell_type": "markdown",
      "source": [
        "**Check missing data in the train and test datasets**"
      ],
      "metadata": {
        "id": "DNuEGsr7_Pin"
      }
    },
    {
      "cell_type": "code",
      "source": [
        "print(f\"Count of missing values in the train_df: {train_df.isnull().sum().sum()}\")\n",
        "print(f\"Count of missing values in the test_df: {test_df.isnull().sum().sum()}\")"
      ],
      "metadata": {
        "id": "G1ViDcZiI-x4",
        "colab": {
          "base_uri": "https://localhost:8080/"
        },
        "outputId": "dac20641-3f4e-4d77-df88-65b02abb405d"
      },
      "execution_count": null,
      "outputs": [
        {
          "output_type": "stream",
          "name": "stdout",
          "text": [
            "Count of missing values in the train_df: 0\n",
            "Count of missing values in the test_df: 0\n"
          ]
        }
      ]
    },
    {
      "cell_type": "markdown",
      "source": [
        "**Replace 'no' with 0 and 'yes' with 1 in the Y DataFrame**"
      ],
      "metadata": {
        "id": "m8_8MXER2IqS"
      }
    },
    {
      "cell_type": "markdown",
      "source": [
        "Question 1: In order to prepare Y for future training purposes, consider converting the current string values of 'no' and 'yes' into binary integers, 0 and 1, respectively. Hint: This can be accomplished by using the replace function."
      ],
      "metadata": {
        "id": "I14Rs7yDADbh"
      }
    },
    {
      "cell_type": "code",
      "source": [
        "###### Your codes start here.######\n",
        "Y = Y.replace({'no': 0, 'yes': 1})\n",
        "###### Your codes end here.######\n",
        "\n",
        "# Convert Y DataFrame to integer type\n",
        "Y = Y.astype(int)"
      ],
      "metadata": {
        "id": "0bUZY9YEJA8L"
      },
      "execution_count": null,
      "outputs": []
    },
    {
      "cell_type": "markdown",
      "source": [
        "\n",
        "\n",
        "```\n",
        "# This is formatted as code\n",
        "```\n",
        "\n",
        "Question 2: Split X and Y into training set & validation set. Hint: try train_test_split function."
      ],
      "metadata": {
        "id": "UJ-FEdu4Af35"
      }
    },
    {
      "cell_type": "code",
      "source": [
        "###### Your codes start here.######\n",
        "X_train, X_val, Y_train, Y_val = train_test_split(X, Y)\n",
        "###### Your codes end here.######"
      ],
      "metadata": {
        "id": "napo1DAIJgJI"
      },
      "execution_count": null,
      "outputs": []
    },
    {
      "cell_type": "code",
      "source": [
        "X_train.head()"
      ],
      "metadata": {
        "colab": {
          "base_uri": "https://localhost:8080/",
          "height": 270
        },
        "id": "S41hTf-QK5nO",
        "outputId": "28196585-b008-463e-8255-e17f2942026b"
      },
      "execution_count": null,
      "outputs": [
        {
          "output_type": "execute_result",
          "data": {
            "text/plain": [
              "     state  account_length      area_code international_plan voice_mail_plan  \\\n",
              "1082    UT             144  area_code_415                 no              no   \n",
              "2853    MD              68  area_code_408                 no              no   \n",
              "3184    MS             173  area_code_415                 no              no   \n",
              "3500    ID             130  area_code_510                 no              no   \n",
              "1784    WI             111  area_code_415                 no              no   \n",
              "\n",
              "      number_vmail_messages  total_day_minutes  total_day_calls  \\\n",
              "1082                      0              139.6               96   \n",
              "2853                      0              150.4              106   \n",
              "3184                      0               82.1               75   \n",
              "3500                      0              140.9               68   \n",
              "1784                      0              246.5              108   \n",
              "\n",
              "      total_day_charge  total_eve_minutes  total_eve_calls  total_eve_charge  \\\n",
              "1082             23.73              124.2               93             10.56   \n",
              "2853             25.57              199.0              131             16.92   \n",
              "3184             13.96              201.2               95             17.10   \n",
              "3500             23.95              217.5              109             18.49   \n",
              "1784             41.91              216.3               89             18.39   \n",
              "\n",
              "      total_night_minutes  total_night_calls  total_night_charge  \\\n",
              "1082                 95.6                 75                4.30   \n",
              "2853                109.7                103                4.94   \n",
              "3184                206.7                146                9.30   \n",
              "3500                123.6                 96                5.56   \n",
              "1784                179.6                 99                8.08   \n",
              "\n",
              "      total_intl_minutes  total_intl_calls  total_intl_charge  \\\n",
              "1082                15.0                 4               4.05   \n",
              "2853                12.3                 3               3.32   \n",
              "3184                 9.6                 2               2.59   \n",
              "3500                13.6                 4               3.67   \n",
              "1784                12.7                 3               3.43   \n",
              "\n",
              "      number_customer_service_calls  \n",
              "1082                              2  \n",
              "2853                              3  \n",
              "3184                              1  \n",
              "3500                              3  \n",
              "1784                              2  "
            ],
            "text/html": [
              "\n",
              "  <div id=\"df-6a5a7473-0c28-416c-9591-b86e1c873211\">\n",
              "    <div class=\"colab-df-container\">\n",
              "      <div>\n",
              "<style scoped>\n",
              "    .dataframe tbody tr th:only-of-type {\n",
              "        vertical-align: middle;\n",
              "    }\n",
              "\n",
              "    .dataframe tbody tr th {\n",
              "        vertical-align: top;\n",
              "    }\n",
              "\n",
              "    .dataframe thead th {\n",
              "        text-align: right;\n",
              "    }\n",
              "</style>\n",
              "<table border=\"1\" class=\"dataframe\">\n",
              "  <thead>\n",
              "    <tr style=\"text-align: right;\">\n",
              "      <th></th>\n",
              "      <th>state</th>\n",
              "      <th>account_length</th>\n",
              "      <th>area_code</th>\n",
              "      <th>international_plan</th>\n",
              "      <th>voice_mail_plan</th>\n",
              "      <th>number_vmail_messages</th>\n",
              "      <th>total_day_minutes</th>\n",
              "      <th>total_day_calls</th>\n",
              "      <th>total_day_charge</th>\n",
              "      <th>total_eve_minutes</th>\n",
              "      <th>total_eve_calls</th>\n",
              "      <th>total_eve_charge</th>\n",
              "      <th>total_night_minutes</th>\n",
              "      <th>total_night_calls</th>\n",
              "      <th>total_night_charge</th>\n",
              "      <th>total_intl_minutes</th>\n",
              "      <th>total_intl_calls</th>\n",
              "      <th>total_intl_charge</th>\n",
              "      <th>number_customer_service_calls</th>\n",
              "    </tr>\n",
              "  </thead>\n",
              "  <tbody>\n",
              "    <tr>\n",
              "      <th>1082</th>\n",
              "      <td>UT</td>\n",
              "      <td>144</td>\n",
              "      <td>area_code_415</td>\n",
              "      <td>no</td>\n",
              "      <td>no</td>\n",
              "      <td>0</td>\n",
              "      <td>139.6</td>\n",
              "      <td>96</td>\n",
              "      <td>23.73</td>\n",
              "      <td>124.2</td>\n",
              "      <td>93</td>\n",
              "      <td>10.56</td>\n",
              "      <td>95.6</td>\n",
              "      <td>75</td>\n",
              "      <td>4.30</td>\n",
              "      <td>15.0</td>\n",
              "      <td>4</td>\n",
              "      <td>4.05</td>\n",
              "      <td>2</td>\n",
              "    </tr>\n",
              "    <tr>\n",
              "      <th>2853</th>\n",
              "      <td>MD</td>\n",
              "      <td>68</td>\n",
              "      <td>area_code_408</td>\n",
              "      <td>no</td>\n",
              "      <td>no</td>\n",
              "      <td>0</td>\n",
              "      <td>150.4</td>\n",
              "      <td>106</td>\n",
              "      <td>25.57</td>\n",
              "      <td>199.0</td>\n",
              "      <td>131</td>\n",
              "      <td>16.92</td>\n",
              "      <td>109.7</td>\n",
              "      <td>103</td>\n",
              "      <td>4.94</td>\n",
              "      <td>12.3</td>\n",
              "      <td>3</td>\n",
              "      <td>3.32</td>\n",
              "      <td>3</td>\n",
              "    </tr>\n",
              "    <tr>\n",
              "      <th>3184</th>\n",
              "      <td>MS</td>\n",
              "      <td>173</td>\n",
              "      <td>area_code_415</td>\n",
              "      <td>no</td>\n",
              "      <td>no</td>\n",
              "      <td>0</td>\n",
              "      <td>82.1</td>\n",
              "      <td>75</td>\n",
              "      <td>13.96</td>\n",
              "      <td>201.2</td>\n",
              "      <td>95</td>\n",
              "      <td>17.10</td>\n",
              "      <td>206.7</td>\n",
              "      <td>146</td>\n",
              "      <td>9.30</td>\n",
              "      <td>9.6</td>\n",
              "      <td>2</td>\n",
              "      <td>2.59</td>\n",
              "      <td>1</td>\n",
              "    </tr>\n",
              "    <tr>\n",
              "      <th>3500</th>\n",
              "      <td>ID</td>\n",
              "      <td>130</td>\n",
              "      <td>area_code_510</td>\n",
              "      <td>no</td>\n",
              "      <td>no</td>\n",
              "      <td>0</td>\n",
              "      <td>140.9</td>\n",
              "      <td>68</td>\n",
              "      <td>23.95</td>\n",
              "      <td>217.5</td>\n",
              "      <td>109</td>\n",
              "      <td>18.49</td>\n",
              "      <td>123.6</td>\n",
              "      <td>96</td>\n",
              "      <td>5.56</td>\n",
              "      <td>13.6</td>\n",
              "      <td>4</td>\n",
              "      <td>3.67</td>\n",
              "      <td>3</td>\n",
              "    </tr>\n",
              "    <tr>\n",
              "      <th>1784</th>\n",
              "      <td>WI</td>\n",
              "      <td>111</td>\n",
              "      <td>area_code_415</td>\n",
              "      <td>no</td>\n",
              "      <td>no</td>\n",
              "      <td>0</td>\n",
              "      <td>246.5</td>\n",
              "      <td>108</td>\n",
              "      <td>41.91</td>\n",
              "      <td>216.3</td>\n",
              "      <td>89</td>\n",
              "      <td>18.39</td>\n",
              "      <td>179.6</td>\n",
              "      <td>99</td>\n",
              "      <td>8.08</td>\n",
              "      <td>12.7</td>\n",
              "      <td>3</td>\n",
              "      <td>3.43</td>\n",
              "      <td>2</td>\n",
              "    </tr>\n",
              "  </tbody>\n",
              "</table>\n",
              "</div>\n",
              "      <button class=\"colab-df-convert\" onclick=\"convertToInteractive('df-6a5a7473-0c28-416c-9591-b86e1c873211')\"\n",
              "              title=\"Convert this dataframe to an interactive table.\"\n",
              "              style=\"display:none;\">\n",
              "        \n",
              "  <svg xmlns=\"http://www.w3.org/2000/svg\" height=\"24px\"viewBox=\"0 0 24 24\"\n",
              "       width=\"24px\">\n",
              "    <path d=\"M0 0h24v24H0V0z\" fill=\"none\"/>\n",
              "    <path d=\"M18.56 5.44l.94 2.06.94-2.06 2.06-.94-2.06-.94-.94-2.06-.94 2.06-2.06.94zm-11 1L8.5 8.5l.94-2.06 2.06-.94-2.06-.94L8.5 2.5l-.94 2.06-2.06.94zm10 10l.94 2.06.94-2.06 2.06-.94-2.06-.94-.94-2.06-.94 2.06-2.06.94z\"/><path d=\"M17.41 7.96l-1.37-1.37c-.4-.4-.92-.59-1.43-.59-.52 0-1.04.2-1.43.59L10.3 9.45l-7.72 7.72c-.78.78-.78 2.05 0 2.83L4 21.41c.39.39.9.59 1.41.59.51 0 1.02-.2 1.41-.59l7.78-7.78 2.81-2.81c.8-.78.8-2.07 0-2.86zM5.41 20L4 18.59l7.72-7.72 1.47 1.35L5.41 20z\"/>\n",
              "  </svg>\n",
              "      </button>\n",
              "      \n",
              "  <style>\n",
              "    .colab-df-container {\n",
              "      display:flex;\n",
              "      flex-wrap:wrap;\n",
              "      gap: 12px;\n",
              "    }\n",
              "\n",
              "    .colab-df-convert {\n",
              "      background-color: #E8F0FE;\n",
              "      border: none;\n",
              "      border-radius: 50%;\n",
              "      cursor: pointer;\n",
              "      display: none;\n",
              "      fill: #1967D2;\n",
              "      height: 32px;\n",
              "      padding: 0 0 0 0;\n",
              "      width: 32px;\n",
              "    }\n",
              "\n",
              "    .colab-df-convert:hover {\n",
              "      background-color: #E2EBFA;\n",
              "      box-shadow: 0px 1px 2px rgba(60, 64, 67, 0.3), 0px 1px 3px 1px rgba(60, 64, 67, 0.15);\n",
              "      fill: #174EA6;\n",
              "    }\n",
              "\n",
              "    [theme=dark] .colab-df-convert {\n",
              "      background-color: #3B4455;\n",
              "      fill: #D2E3FC;\n",
              "    }\n",
              "\n",
              "    [theme=dark] .colab-df-convert:hover {\n",
              "      background-color: #434B5C;\n",
              "      box-shadow: 0px 1px 3px 1px rgba(0, 0, 0, 0.15);\n",
              "      filter: drop-shadow(0px 1px 2px rgba(0, 0, 0, 0.3));\n",
              "      fill: #FFFFFF;\n",
              "    }\n",
              "  </style>\n",
              "\n",
              "      <script>\n",
              "        const buttonEl =\n",
              "          document.querySelector('#df-6a5a7473-0c28-416c-9591-b86e1c873211 button.colab-df-convert');\n",
              "        buttonEl.style.display =\n",
              "          google.colab.kernel.accessAllowed ? 'block' : 'none';\n",
              "\n",
              "        async function convertToInteractive(key) {\n",
              "          const element = document.querySelector('#df-6a5a7473-0c28-416c-9591-b86e1c873211');\n",
              "          const dataTable =\n",
              "            await google.colab.kernel.invokeFunction('convertToInteractive',\n",
              "                                                     [key], {});\n",
              "          if (!dataTable) return;\n",
              "\n",
              "          const docLinkHtml = 'Like what you see? Visit the ' +\n",
              "            '<a target=\"_blank\" href=https://colab.research.google.com/notebooks/data_table.ipynb>data table notebook</a>'\n",
              "            + ' to learn more about interactive tables.';\n",
              "          element.innerHTML = '';\n",
              "          dataTable['output_type'] = 'display_data';\n",
              "          await google.colab.output.renderOutput(dataTable, element);\n",
              "          const docLink = document.createElement('div');\n",
              "          docLink.innerHTML = docLinkHtml;\n",
              "          element.appendChild(docLink);\n",
              "        }\n",
              "      </script>\n",
              "    </div>\n",
              "  </div>\n",
              "  "
            ]
          },
          "metadata": {},
          "execution_count": 14
        }
      ]
    },
    {
      "cell_type": "markdown",
      "source": [
        "**Convert categorical features in a DataFrame to one-hot encoding**"
      ],
      "metadata": {
        "id": "AR3WieWH_ps5"
      }
    },
    {
      "cell_type": "code",
      "source": [
        "def convert_features_to_one_hot(df, feature_name_list):\n",
        "  for feature_name in feature_name_list:\n",
        "    df = pd.get_dummies(df, columns=[feature_name])\n",
        "\n",
        "  return df"
      ],
      "metadata": {
        "id": "ARu_4f0ZJO21"
      },
      "execution_count": null,
      "outputs": []
    },
    {
      "cell_type": "markdown",
      "source": [
        "Question 3: Create a list that contains all categorical features in the dataset, then use function convert_features_to_one_hot to transform the categorical features into one-hot encoded representations."
      ],
      "metadata": {
        "id": "4nHcGHARA_PV"
      }
    },
    {
      "cell_type": "code",
      "source": [
        "from pandas.core.arrays import categorical\n",
        "# List of categorical features to be one-hot encoded\n",
        "###### Your codes start here.######\n",
        "features = ['state', 'area_code', 'international_plan', 'voice_mail_plan']\n",
        "X_train = convert_features_to_one_hot(X_train, features)\n",
        "X_test = convert_features_to_one_hot(X_test, features)\n",
        "X_val = convert_features_to_one_hot(X_val, features)\n",
        "###### Your codes end here.######"
      ],
      "metadata": {
        "id": "UznqaNyeJTD2"
      },
      "execution_count": null,
      "outputs": []
    },
    {
      "cell_type": "code",
      "source": [
        "X_train.head()"
      ],
      "metadata": {
        "id": "7Nu-LVA0J08L",
        "colab": {
          "base_uri": "https://localhost:8080/",
          "height": 300
        },
        "outputId": "7b108216-cb3f-4fde-d398-1d95f593c020"
      },
      "execution_count": null,
      "outputs": [
        {
          "output_type": "execute_result",
          "data": {
            "text/plain": [
              "      account_length  number_vmail_messages  total_day_minutes  \\\n",
              "1082             144                      0              139.6   \n",
              "2853              68                      0              150.4   \n",
              "3184             173                      0               82.1   \n",
              "3500             130                      0              140.9   \n",
              "1784             111                      0              246.5   \n",
              "\n",
              "      total_day_calls  total_day_charge  total_eve_minutes  total_eve_calls  \\\n",
              "1082               96             23.73              124.2               93   \n",
              "2853              106             25.57              199.0              131   \n",
              "3184               75             13.96              201.2               95   \n",
              "3500               68             23.95              217.5              109   \n",
              "1784              108             41.91              216.3               89   \n",
              "\n",
              "      total_eve_charge  total_night_minutes  total_night_calls  ...  state_WI  \\\n",
              "1082             10.56                 95.6                 75  ...         0   \n",
              "2853             16.92                109.7                103  ...         0   \n",
              "3184             17.10                206.7                146  ...         0   \n",
              "3500             18.49                123.6                 96  ...         0   \n",
              "1784             18.39                179.6                 99  ...         1   \n",
              "\n",
              "      state_WV  state_WY  area_code_area_code_408  area_code_area_code_415  \\\n",
              "1082         0         0                        0                        1   \n",
              "2853         0         0                        1                        0   \n",
              "3184         0         0                        0                        1   \n",
              "3500         0         0                        0                        0   \n",
              "1784         0         0                        0                        1   \n",
              "\n",
              "      area_code_area_code_510  international_plan_no  international_plan_yes  \\\n",
              "1082                        0                      1                       0   \n",
              "2853                        0                      1                       0   \n",
              "3184                        0                      1                       0   \n",
              "3500                        1                      1                       0   \n",
              "1784                        0                      1                       0   \n",
              "\n",
              "      voice_mail_plan_no  voice_mail_plan_yes  \n",
              "1082                   1                    0  \n",
              "2853                   1                    0  \n",
              "3184                   1                    0  \n",
              "3500                   1                    0  \n",
              "1784                   1                    0  \n",
              "\n",
              "[5 rows x 73 columns]"
            ],
            "text/html": [
              "\n",
              "  <div id=\"df-d5643721-0371-40bb-a12c-2635a3a9518b\">\n",
              "    <div class=\"colab-df-container\">\n",
              "      <div>\n",
              "<style scoped>\n",
              "    .dataframe tbody tr th:only-of-type {\n",
              "        vertical-align: middle;\n",
              "    }\n",
              "\n",
              "    .dataframe tbody tr th {\n",
              "        vertical-align: top;\n",
              "    }\n",
              "\n",
              "    .dataframe thead th {\n",
              "        text-align: right;\n",
              "    }\n",
              "</style>\n",
              "<table border=\"1\" class=\"dataframe\">\n",
              "  <thead>\n",
              "    <tr style=\"text-align: right;\">\n",
              "      <th></th>\n",
              "      <th>account_length</th>\n",
              "      <th>number_vmail_messages</th>\n",
              "      <th>total_day_minutes</th>\n",
              "      <th>total_day_calls</th>\n",
              "      <th>total_day_charge</th>\n",
              "      <th>total_eve_minutes</th>\n",
              "      <th>total_eve_calls</th>\n",
              "      <th>total_eve_charge</th>\n",
              "      <th>total_night_minutes</th>\n",
              "      <th>total_night_calls</th>\n",
              "      <th>...</th>\n",
              "      <th>state_WI</th>\n",
              "      <th>state_WV</th>\n",
              "      <th>state_WY</th>\n",
              "      <th>area_code_area_code_408</th>\n",
              "      <th>area_code_area_code_415</th>\n",
              "      <th>area_code_area_code_510</th>\n",
              "      <th>international_plan_no</th>\n",
              "      <th>international_plan_yes</th>\n",
              "      <th>voice_mail_plan_no</th>\n",
              "      <th>voice_mail_plan_yes</th>\n",
              "    </tr>\n",
              "  </thead>\n",
              "  <tbody>\n",
              "    <tr>\n",
              "      <th>1082</th>\n",
              "      <td>144</td>\n",
              "      <td>0</td>\n",
              "      <td>139.6</td>\n",
              "      <td>96</td>\n",
              "      <td>23.73</td>\n",
              "      <td>124.2</td>\n",
              "      <td>93</td>\n",
              "      <td>10.56</td>\n",
              "      <td>95.6</td>\n",
              "      <td>75</td>\n",
              "      <td>...</td>\n",
              "      <td>0</td>\n",
              "      <td>0</td>\n",
              "      <td>0</td>\n",
              "      <td>0</td>\n",
              "      <td>1</td>\n",
              "      <td>0</td>\n",
              "      <td>1</td>\n",
              "      <td>0</td>\n",
              "      <td>1</td>\n",
              "      <td>0</td>\n",
              "    </tr>\n",
              "    <tr>\n",
              "      <th>2853</th>\n",
              "      <td>68</td>\n",
              "      <td>0</td>\n",
              "      <td>150.4</td>\n",
              "      <td>106</td>\n",
              "      <td>25.57</td>\n",
              "      <td>199.0</td>\n",
              "      <td>131</td>\n",
              "      <td>16.92</td>\n",
              "      <td>109.7</td>\n",
              "      <td>103</td>\n",
              "      <td>...</td>\n",
              "      <td>0</td>\n",
              "      <td>0</td>\n",
              "      <td>0</td>\n",
              "      <td>1</td>\n",
              "      <td>0</td>\n",
              "      <td>0</td>\n",
              "      <td>1</td>\n",
              "      <td>0</td>\n",
              "      <td>1</td>\n",
              "      <td>0</td>\n",
              "    </tr>\n",
              "    <tr>\n",
              "      <th>3184</th>\n",
              "      <td>173</td>\n",
              "      <td>0</td>\n",
              "      <td>82.1</td>\n",
              "      <td>75</td>\n",
              "      <td>13.96</td>\n",
              "      <td>201.2</td>\n",
              "      <td>95</td>\n",
              "      <td>17.10</td>\n",
              "      <td>206.7</td>\n",
              "      <td>146</td>\n",
              "      <td>...</td>\n",
              "      <td>0</td>\n",
              "      <td>0</td>\n",
              "      <td>0</td>\n",
              "      <td>0</td>\n",
              "      <td>1</td>\n",
              "      <td>0</td>\n",
              "      <td>1</td>\n",
              "      <td>0</td>\n",
              "      <td>1</td>\n",
              "      <td>0</td>\n",
              "    </tr>\n",
              "    <tr>\n",
              "      <th>3500</th>\n",
              "      <td>130</td>\n",
              "      <td>0</td>\n",
              "      <td>140.9</td>\n",
              "      <td>68</td>\n",
              "      <td>23.95</td>\n",
              "      <td>217.5</td>\n",
              "      <td>109</td>\n",
              "      <td>18.49</td>\n",
              "      <td>123.6</td>\n",
              "      <td>96</td>\n",
              "      <td>...</td>\n",
              "      <td>0</td>\n",
              "      <td>0</td>\n",
              "      <td>0</td>\n",
              "      <td>0</td>\n",
              "      <td>0</td>\n",
              "      <td>1</td>\n",
              "      <td>1</td>\n",
              "      <td>0</td>\n",
              "      <td>1</td>\n",
              "      <td>0</td>\n",
              "    </tr>\n",
              "    <tr>\n",
              "      <th>1784</th>\n",
              "      <td>111</td>\n",
              "      <td>0</td>\n",
              "      <td>246.5</td>\n",
              "      <td>108</td>\n",
              "      <td>41.91</td>\n",
              "      <td>216.3</td>\n",
              "      <td>89</td>\n",
              "      <td>18.39</td>\n",
              "      <td>179.6</td>\n",
              "      <td>99</td>\n",
              "      <td>...</td>\n",
              "      <td>1</td>\n",
              "      <td>0</td>\n",
              "      <td>0</td>\n",
              "      <td>0</td>\n",
              "      <td>1</td>\n",
              "      <td>0</td>\n",
              "      <td>1</td>\n",
              "      <td>0</td>\n",
              "      <td>1</td>\n",
              "      <td>0</td>\n",
              "    </tr>\n",
              "  </tbody>\n",
              "</table>\n",
              "<p>5 rows × 73 columns</p>\n",
              "</div>\n",
              "      <button class=\"colab-df-convert\" onclick=\"convertToInteractive('df-d5643721-0371-40bb-a12c-2635a3a9518b')\"\n",
              "              title=\"Convert this dataframe to an interactive table.\"\n",
              "              style=\"display:none;\">\n",
              "        \n",
              "  <svg xmlns=\"http://www.w3.org/2000/svg\" height=\"24px\"viewBox=\"0 0 24 24\"\n",
              "       width=\"24px\">\n",
              "    <path d=\"M0 0h24v24H0V0z\" fill=\"none\"/>\n",
              "    <path d=\"M18.56 5.44l.94 2.06.94-2.06 2.06-.94-2.06-.94-.94-2.06-.94 2.06-2.06.94zm-11 1L8.5 8.5l.94-2.06 2.06-.94-2.06-.94L8.5 2.5l-.94 2.06-2.06.94zm10 10l.94 2.06.94-2.06 2.06-.94-2.06-.94-.94-2.06-.94 2.06-2.06.94z\"/><path d=\"M17.41 7.96l-1.37-1.37c-.4-.4-.92-.59-1.43-.59-.52 0-1.04.2-1.43.59L10.3 9.45l-7.72 7.72c-.78.78-.78 2.05 0 2.83L4 21.41c.39.39.9.59 1.41.59.51 0 1.02-.2 1.41-.59l7.78-7.78 2.81-2.81c.8-.78.8-2.07 0-2.86zM5.41 20L4 18.59l7.72-7.72 1.47 1.35L5.41 20z\"/>\n",
              "  </svg>\n",
              "      </button>\n",
              "      \n",
              "  <style>\n",
              "    .colab-df-container {\n",
              "      display:flex;\n",
              "      flex-wrap:wrap;\n",
              "      gap: 12px;\n",
              "    }\n",
              "\n",
              "    .colab-df-convert {\n",
              "      background-color: #E8F0FE;\n",
              "      border: none;\n",
              "      border-radius: 50%;\n",
              "      cursor: pointer;\n",
              "      display: none;\n",
              "      fill: #1967D2;\n",
              "      height: 32px;\n",
              "      padding: 0 0 0 0;\n",
              "      width: 32px;\n",
              "    }\n",
              "\n",
              "    .colab-df-convert:hover {\n",
              "      background-color: #E2EBFA;\n",
              "      box-shadow: 0px 1px 2px rgba(60, 64, 67, 0.3), 0px 1px 3px 1px rgba(60, 64, 67, 0.15);\n",
              "      fill: #174EA6;\n",
              "    }\n",
              "\n",
              "    [theme=dark] .colab-df-convert {\n",
              "      background-color: #3B4455;\n",
              "      fill: #D2E3FC;\n",
              "    }\n",
              "\n",
              "    [theme=dark] .colab-df-convert:hover {\n",
              "      background-color: #434B5C;\n",
              "      box-shadow: 0px 1px 3px 1px rgba(0, 0, 0, 0.15);\n",
              "      filter: drop-shadow(0px 1px 2px rgba(0, 0, 0, 0.3));\n",
              "      fill: #FFFFFF;\n",
              "    }\n",
              "  </style>\n",
              "\n",
              "      <script>\n",
              "        const buttonEl =\n",
              "          document.querySelector('#df-d5643721-0371-40bb-a12c-2635a3a9518b button.colab-df-convert');\n",
              "        buttonEl.style.display =\n",
              "          google.colab.kernel.accessAllowed ? 'block' : 'none';\n",
              "\n",
              "        async function convertToInteractive(key) {\n",
              "          const element = document.querySelector('#df-d5643721-0371-40bb-a12c-2635a3a9518b');\n",
              "          const dataTable =\n",
              "            await google.colab.kernel.invokeFunction('convertToInteractive',\n",
              "                                                     [key], {});\n",
              "          if (!dataTable) return;\n",
              "\n",
              "          const docLinkHtml = 'Like what you see? Visit the ' +\n",
              "            '<a target=\"_blank\" href=https://colab.research.google.com/notebooks/data_table.ipynb>data table notebook</a>'\n",
              "            + ' to learn more about interactive tables.';\n",
              "          element.innerHTML = '';\n",
              "          dataTable['output_type'] = 'display_data';\n",
              "          await google.colab.output.renderOutput(dataTable, element);\n",
              "          const docLink = document.createElement('div');\n",
              "          docLink.innerHTML = docLinkHtml;\n",
              "          element.appendChild(docLink);\n",
              "        }\n",
              "      </script>\n",
              "    </div>\n",
              "  </div>\n",
              "  "
            ]
          },
          "metadata": {},
          "execution_count": 17
        }
      ]
    },
    {
      "cell_type": "markdown",
      "source": [
        "**Save Predicted Churn Values to CSV File**"
      ],
      "metadata": {
        "id": "R0YvTGIC_4qv"
      }
    },
    {
      "cell_type": "code",
      "source": [
        "def save_prediction_to_csv_file(y_test_pred, file_name):\n",
        "  # Convert predicted churn values to 'yes' and 'no'\n",
        "  churn_list = ['no' if pred == 0 else 'yes' for pred in y_test_pred]\n",
        "\n",
        "  # Create a DataFrame containing the IDs and predicted churn values\n",
        "  submission_df = pd.DataFrame({'id': test_df['id'], 'churn': churn_list})\n",
        "\n",
        "  # Save the DataFrame to a CSV file\n",
        "  submission_df.to_csv(file_name, index=False)"
      ],
      "metadata": {
        "id": "Q9HGrcdQ30Hf"
      },
      "execution_count": null,
      "outputs": []
    },
    {
      "cell_type": "markdown",
      "source": [
        "# Logistic regression"
      ],
      "metadata": {
        "id": "TE9M5QCB9dnT"
      }
    },
    {
      "cell_type": "markdown",
      "source": [
        "**Fit logistic regression model on training data**"
      ],
      "metadata": {
        "id": "bObumoeU_9YU"
      }
    },
    {
      "cell_type": "markdown",
      "source": [
        "Question 4: Train a logistic regression model using X_train and Y_train with l2 penalty. Hint: Check LogisticRegression from sklearn."
      ],
      "metadata": {
        "id": "FEAIGls1BbXr"
      }
    },
    {
      "cell_type": "code",
      "source": [
        "###### Your codes start here.######\n",
        "LR_model = LogisticRegression(penalty='l2', max_iter=5000)\n",
        "LR_model.fit(X_train, Y_train)\n",
        "###### Your codes end here.######"
      ],
      "metadata": {
        "id": "nnm5H6ia4Wdy",
        "colab": {
          "base_uri": "https://localhost:8080/",
          "height": 75
        },
        "outputId": "1b172911-69e5-42b1-a8b3-4ce336a9413d"
      },
      "execution_count": null,
      "outputs": [
        {
          "output_type": "execute_result",
          "data": {
            "text/plain": [
              "LogisticRegression(max_iter=5000)"
            ],
            "text/html": [
              "<style>#sk-container-id-1 {color: black;background-color: white;}#sk-container-id-1 pre{padding: 0;}#sk-container-id-1 div.sk-toggleable {background-color: white;}#sk-container-id-1 label.sk-toggleable__label {cursor: pointer;display: block;width: 100%;margin-bottom: 0;padding: 0.3em;box-sizing: border-box;text-align: center;}#sk-container-id-1 label.sk-toggleable__label-arrow:before {content: \"▸\";float: left;margin-right: 0.25em;color: #696969;}#sk-container-id-1 label.sk-toggleable__label-arrow:hover:before {color: black;}#sk-container-id-1 div.sk-estimator:hover label.sk-toggleable__label-arrow:before {color: black;}#sk-container-id-1 div.sk-toggleable__content {max-height: 0;max-width: 0;overflow: hidden;text-align: left;background-color: #f0f8ff;}#sk-container-id-1 div.sk-toggleable__content pre {margin: 0.2em;color: black;border-radius: 0.25em;background-color: #f0f8ff;}#sk-container-id-1 input.sk-toggleable__control:checked~div.sk-toggleable__content {max-height: 200px;max-width: 100%;overflow: auto;}#sk-container-id-1 input.sk-toggleable__control:checked~label.sk-toggleable__label-arrow:before {content: \"▾\";}#sk-container-id-1 div.sk-estimator input.sk-toggleable__control:checked~label.sk-toggleable__label {background-color: #d4ebff;}#sk-container-id-1 div.sk-label input.sk-toggleable__control:checked~label.sk-toggleable__label {background-color: #d4ebff;}#sk-container-id-1 input.sk-hidden--visually {border: 0;clip: rect(1px 1px 1px 1px);clip: rect(1px, 1px, 1px, 1px);height: 1px;margin: -1px;overflow: hidden;padding: 0;position: absolute;width: 1px;}#sk-container-id-1 div.sk-estimator {font-family: monospace;background-color: #f0f8ff;border: 1px dotted black;border-radius: 0.25em;box-sizing: border-box;margin-bottom: 0.5em;}#sk-container-id-1 div.sk-estimator:hover {background-color: #d4ebff;}#sk-container-id-1 div.sk-parallel-item::after {content: \"\";width: 100%;border-bottom: 1px solid gray;flex-grow: 1;}#sk-container-id-1 div.sk-label:hover label.sk-toggleable__label {background-color: #d4ebff;}#sk-container-id-1 div.sk-serial::before {content: \"\";position: absolute;border-left: 1px solid gray;box-sizing: border-box;top: 0;bottom: 0;left: 50%;z-index: 0;}#sk-container-id-1 div.sk-serial {display: flex;flex-direction: column;align-items: center;background-color: white;padding-right: 0.2em;padding-left: 0.2em;position: relative;}#sk-container-id-1 div.sk-item {position: relative;z-index: 1;}#sk-container-id-1 div.sk-parallel {display: flex;align-items: stretch;justify-content: center;background-color: white;position: relative;}#sk-container-id-1 div.sk-item::before, #sk-container-id-1 div.sk-parallel-item::before {content: \"\";position: absolute;border-left: 1px solid gray;box-sizing: border-box;top: 0;bottom: 0;left: 50%;z-index: -1;}#sk-container-id-1 div.sk-parallel-item {display: flex;flex-direction: column;z-index: 1;position: relative;background-color: white;}#sk-container-id-1 div.sk-parallel-item:first-child::after {align-self: flex-end;width: 50%;}#sk-container-id-1 div.sk-parallel-item:last-child::after {align-self: flex-start;width: 50%;}#sk-container-id-1 div.sk-parallel-item:only-child::after {width: 0;}#sk-container-id-1 div.sk-dashed-wrapped {border: 1px dashed gray;margin: 0 0.4em 0.5em 0.4em;box-sizing: border-box;padding-bottom: 0.4em;background-color: white;}#sk-container-id-1 div.sk-label label {font-family: monospace;font-weight: bold;display: inline-block;line-height: 1.2em;}#sk-container-id-1 div.sk-label-container {text-align: center;}#sk-container-id-1 div.sk-container {/* jupyter's `normalize.less` sets `[hidden] { display: none; }` but bootstrap.min.css set `[hidden] { display: none !important; }` so we also need the `!important` here to be able to override the default hidden behavior on the sphinx rendered scikit-learn.org. See: https://github.com/scikit-learn/scikit-learn/issues/21755 */display: inline-block !important;position: relative;}#sk-container-id-1 div.sk-text-repr-fallback {display: none;}</style><div id=\"sk-container-id-1\" class=\"sk-top-container\"><div class=\"sk-text-repr-fallback\"><pre>LogisticRegression(max_iter=5000)</pre><b>In a Jupyter environment, please rerun this cell to show the HTML representation or trust the notebook. <br />On GitHub, the HTML representation is unable to render, please try loading this page with nbviewer.org.</b></div><div class=\"sk-container\" hidden><div class=\"sk-item\"><div class=\"sk-estimator sk-toggleable\"><input class=\"sk-toggleable__control sk-hidden--visually\" id=\"sk-estimator-id-1\" type=\"checkbox\" checked><label for=\"sk-estimator-id-1\" class=\"sk-toggleable__label sk-toggleable__label-arrow\">LogisticRegression</label><div class=\"sk-toggleable__content\"><pre>LogisticRegression(max_iter=5000)</pre></div></div></div></div></div>"
            ]
          },
          "metadata": {},
          "execution_count": 19
        }
      ]
    },
    {
      "cell_type": "code",
      "source": [],
      "metadata": {
        "id": "KYYmhjTZoiCR"
      },
      "execution_count": null,
      "outputs": []
    },
    {
      "cell_type": "markdown",
      "source": [
        "**Make predictions on validation data and print validation accuracy**"
      ],
      "metadata": {
        "id": "rmVJ5nDCAE8u"
      }
    },
    {
      "cell_type": "markdown",
      "source": [
        "Question 5: Generate predictions on the validation dataset using the predict function, and subsequently, assess the model's predictive performance by comparing the predicted results against the true labels, computing the accuracy metric as a measure of performance."
      ],
      "metadata": {
        "id": "yAnmldoTB9PW"
      }
    },
    {
      "cell_type": "code",
      "source": [
        "###### Your codes start here.######\n",
        "from sklearn.metrics import accuracy_score\n",
        "\n",
        "y_val_pred = LR_model.predict(X_val)\n",
        "val_accuracy = accuracy_score(Y_val, y_val_pred)\n",
        "\n",
        "print(\"Validation Accuracy:\", val_accuracy)\n",
        "###### Your codes end here.######"
      ],
      "metadata": {
        "id": "6-z1G8c6AAH2",
        "colab": {
          "base_uri": "https://localhost:8080/"
        },
        "outputId": "1671e09a-2ba4-40cf-ea2c-d34f5103e6ea"
      },
      "execution_count": null,
      "outputs": [
        {
          "output_type": "stream",
          "name": "stdout",
          "text": [
            "Validation Accuracy: 0.8645343367826905\n"
          ]
        }
      ]
    },
    {
      "cell_type": "markdown",
      "source": [
        "**Make predictions on test data and save to CSV file**"
      ],
      "metadata": {
        "id": "2yLelZ4QACTd"
      }
    },
    {
      "cell_type": "code",
      "source": [
        "y_test_pred = LR_model.predict(X_test)\n",
        "save_prediction_to_csv_file(y_test_pred, \"submission_lr.csv\")"
      ],
      "metadata": {
        "id": "p7-yu69-AAfi"
      },
      "execution_count": null,
      "outputs": []
    },
    {
      "cell_type": "markdown",
      "source": [
        "After obtaining the submission file, submission_lr.csv, proceed to upload it to the designated competition page on [kaggle](https://www.kaggle.com/competitions/customer-churn-prediction-2020/submissions). This will allow you to assess the performance of your model on the competition's test set by viewing the corresponding evaluation results."
      ],
      "metadata": {
        "id": "uWvDaLNLCTqV"
      }
    },
    {
      "cell_type": "markdown",
      "source": [
        "# Neural Network"
      ],
      "metadata": {
        "id": "Byo0Ja585Irf"
      }
    },
    {
      "cell_type": "markdown",
      "source": [
        "**Set device to GPU if available, otherwise use CPU**"
      ],
      "metadata": {
        "id": "FemBw7S2AIut"
      }
    },
    {
      "cell_type": "markdown",
      "source": [
        "Question 6: Prior to executing the code, verify if a GPU is available and if so, assign it to a variable named device. Otherwise, utilize the CPU for computation. This can be accomplished by using the torch.device function."
      ],
      "metadata": {
        "id": "BhPKskwCCkG9"
      }
    },
    {
      "cell_type": "code",
      "source": [
        "###### Your codes start here.######\n",
        "if torch.cuda.is_available():\n",
        "    device = torch.device(\"cuda\")\n",
        "else:\n",
        "    device = torch.device(\"cpu\")\n",
        "###### Your codes end here.######"
      ],
      "metadata": {
        "id": "7vWOFOsFIww2"
      },
      "execution_count": null,
      "outputs": []
    },
    {
      "cell_type": "markdown",
      "source": [
        "**Convert data to PyTorch tensors and move to device**"
      ],
      "metadata": {
        "id": "Q7X8JBrDALup"
      }
    },
    {
      "cell_type": "code",
      "source": [
        "# Convert training data to PyTorch tensors and move to device\n",
        "X_train = torch.tensor(X_train.values, dtype=torch.float32).to(device)\n",
        "Y_train = torch.tensor(Y_train.values, dtype=torch.long).to(device)\n",
        "\n",
        "# Convert validation data to PyTorch tensors and move to device\n",
        "X_val = torch.tensor(X_val.values, dtype=torch.float32).to(device)\n",
        "Y_val = torch.tensor(Y_val.values, dtype=torch.long).to(device)\n",
        "\n",
        "# Convert test data to PyTorch tensors and move to device\n",
        "X_test = torch.tensor(X_test.values, dtype=torch.float32).to(device)"
      ],
      "metadata": {
        "id": "M8g40p26Heda"
      },
      "execution_count": null,
      "outputs": []
    },
    {
      "cell_type": "markdown",
      "source": [
        "**Define network architecture and hyperparameters**"
      ],
      "metadata": {
        "id": "wo-jlRyk5Sd4"
      }
    },
    {
      "cell_type": "code",
      "source": [
        "D = X_train.shape[1]  # feature dimensions\n",
        "C = 2  # num_classes\n",
        "H = 6  # num_hidden_units\n",
        "\n",
        "# Set learning rate and regularization strength\n",
        "learning_rate = 1e-3\n",
        "lambda_l2 = 1e-3\n",
        "\n",
        "# Set number of training epochs\n",
        "epochs = 27000"
      ],
      "metadata": {
        "id": "49TkpP7A5R59"
      },
      "execution_count": null,
      "outputs": []
    },
    {
      "cell_type": "markdown",
      "source": [
        "**Train a Linear Model with PyTorch**"
      ],
      "metadata": {
        "id": "xPL7eVLsAZXW"
      }
    },
    {
      "cell_type": "markdown",
      "source": [
        "Question 7:\n",
        "\n",
        "For each question, there are 2 scores available.\n",
        "\n",
        "1. Construct your initial neural network architecture, consisting of three fully-connected layers with ReLU activation functions inserted between each pair of fully-connected layers. The network should consist of D input feature dimensions, H hidden units in each layer, and C output classes. Hint: Use nn.Sequential function.\n",
        "\n",
        "2. Implement the cross-entropy loss function to calculate the loss between predicted and ground-truth labels. Hint: use the CrossEntropyLoss function provided by PyTorch.\n",
        "\n",
        "3. Use the Adam optimizer to update the model's parameters during training. Set the weight decay parameter to lambda_l2."
      ],
      "metadata": {
        "id": "ljn-o5DSC6D1"
      }
    },
    {
      "cell_type": "markdown",
      "source": [
        "Notice: Since CrossEntropyLoss function already includes a sigmoid activation function, there's no need to include an additional sigmoid layer in your model. The CrossEntropyLoss function combines the sigmoid activation and the binary cross-entropy loss function into a single function."
      ],
      "metadata": {
        "id": "c3fkIbg2SSyG"
      }
    },
    {
      "cell_type": "code",
      "source": [
        "###### 1. Your codes start here.######\n",
        "# Define the neural network architecture\n",
        "class LinearModel(nn.Module):\n",
        "    def __init__(self, D, H, C):\n",
        "        super(LinearModel, self).__init__()\n",
        "        self.layers = nn.Sequential(\n",
        "            nn.Linear(D, H),\n",
        "            nn.ReLU(),\n",
        "            nn.Linear(H, H),\n",
        "            nn.ReLU(),\n",
        "            nn.Linear(H, C)\n",
        "        )\n",
        "\n",
        "    def forward(self, x):\n",
        "        out = self.layers(x)\n",
        "        return out\n",
        "\n",
        "model = LinearModel(D, H, C)\n",
        "###### Your codes end here.######\n",
        "model.to(device)\n",
        "\n",
        "# nn package has different loss functions.\n",
        "# we use cross entropy loss for our classification task\n",
        "###### 2. Your codes start here.######\n",
        "loss_fn = nn.CrossEntropyLoss()\n",
        "###### Your codes end here.######\n",
        "\n",
        "# we use the optim package to apply\n",
        "# ADAM for our parameter updates\n",
        "###### 3. Your codes start here.######\n",
        "optimizer = optim.Adam(model.parameters(), weight_decay=lambda_l2)\n",
        "###### Your codes end here.######"
      ],
      "metadata": {
        "id": "p4mtc_Og7LqT"
      },
      "execution_count": null,
      "outputs": []
    },
    {
      "cell_type": "markdown",
      "source": [
        "Question 8: Train your neural network model using a for loop. For guidance on how to write the training code, refer to [this link](https://github.com/yizuc/CSE144/blob/main/05-regression.ipynb) for an example implementation."
      ],
      "metadata": {
        "id": "yk_k8WM9DYeQ"
      }
    },
    {
      "cell_type": "code",
      "source": [
        "# Training\n",
        "for t in range(epochs):\n",
        "    ###### Your codes start here.######\n",
        "    model.train()\n",
        "    optimizer.zero_grad()\n",
        "\n",
        "    # Forward pass\n",
        "    y_train_pred = model(X_train)\n",
        "    loss = loss_fn(y_train_pred, Y_train)\n",
        "\n",
        "    # Backward pass\n",
        "    loss.backward()\n",
        "\n",
        "    # Update weights\n",
        "    optimizer.step()\n",
        "\n",
        "# Compute and print training accuracy\n",
        "y_train_pred = model(X_train)\n",
        "_, predicted_train = torch.max(y_train_pred, 1)\n",
        "train_acc = (Y_train == predicted_train).sum().float() / len(Y_train)\n",
        "print(f\"Neural network model training accuracy: {train_acc}\")\n",
        "###### Your codes end here.######"
      ],
      "metadata": {
        "id": "PH4xPhQXDUBK",
        "colab": {
          "base_uri": "https://localhost:8080/"
        },
        "outputId": "131c93dc-d457-4f10-ad2e-02694dc17298"
      },
      "execution_count": null,
      "outputs": [
        {
          "output_type": "stream",
          "name": "stdout",
          "text": [
            "Neural network model training accuracy: 0.9444618821144104\n"
          ]
        }
      ]
    },
    {
      "cell_type": "markdown",
      "source": [
        "**Evaluate neural network model on validation data**"
      ],
      "metadata": {
        "id": "FiF5v5t8AhT9"
      }
    },
    {
      "cell_type": "markdown",
      "source": [
        "Question 9: Explain the purpose of using the with torch.no_grad() context manager in the following code implementation."
      ],
      "metadata": {
        "id": "J9TWB9DaEYFO"
      }
    },
    {
      "cell_type": "code",
      "source": [
        "with torch.no_grad():\n",
        "  y_val_pred = model(X_val)\n",
        "  _, predicted_val = torch.max(y_val_pred, 1)\n",
        "  val_acc = (Y_val == predicted_val).sum().float() / len(Y_val)\n",
        "\n",
        "  # Print validation accuracy\n",
        "  print(f\"Neural network model validation accuracy: {val_acc}\")"
      ],
      "metadata": {
        "id": "xC_3kTIw4qlF",
        "colab": {
          "base_uri": "https://localhost:8080/"
        },
        "outputId": "e44f9ec2-0408-44fa-af2b-750ec2754888"
      },
      "execution_count": null,
      "outputs": [
        {
          "output_type": "stream",
          "name": "stdout",
          "text": [
            "Neural network model validation accuracy: 0.9096895456314087\n"
          ]
        }
      ]
    },
    {
      "cell_type": "markdown",
      "source": [
        "The 'with torch.no_grad()' statement is used in a neural network to prevent PyTorch from tracking and storing intermediate values that are used during the forward pass. This reduces memory usage and speeds up computation. In the provided code snippet, the validation set is being used to evaluate the model's performance after each epoch. During evaluation, we don't need to store the intermediate values, so we use 'with torch.no_grad()' to ensure that PyTorch does not waste resources on unnecessary computations. Inside the 'with' statement, the predicted values are computed, and the accuracy of the predictions is calculated and printed.\n",
        "\n",
        "\n",
        "\n",
        "\n"
      ],
      "metadata": {
        "id": "31R9XFX5EWhF"
      }
    },
    {
      "cell_type": "markdown",
      "source": [
        "**Evaluate neural network model on test data**"
      ],
      "metadata": {
        "id": "3UKlddvFAjYx"
      }
    },
    {
      "cell_type": "code",
      "source": [
        "with torch.no_grad():\n",
        "  y_test_pred = model(X_test)\n",
        "  _, predicted_test = torch.max(y_test_pred, 1)"
      ],
      "metadata": {
        "id": "BAcF5Q2oNb7I"
      },
      "execution_count": null,
      "outputs": []
    },
    {
      "cell_type": "markdown",
      "source": [
        "**Save predicted test values to CSV file**"
      ],
      "metadata": {
        "id": "rByHIL00ApSq"
      }
    },
    {
      "cell_type": "code",
      "source": [
        "save_prediction_to_csv_file(predicted_test, \"submission_nn.csv\")"
      ],
      "metadata": {
        "id": "XiIqQuNDAnvt"
      },
      "execution_count": null,
      "outputs": []
    },
    {
      "cell_type": "markdown",
      "source": [
        "After generating the submission_nn.csv file, proceed to upload it to the designated competition page on [kaggle](https://www.kaggle.com/competitions/customer-churn-prediction-2020/submissions) to assess the performance of the neural network model. You can then compare the neural network's performance against the logistic regression model and determine whether it outperforms it."
      ],
      "metadata": {
        "id": "4sTdxDfFEKmI"
      }
    },
    {
      "cell_type": "markdown",
      "source": [
        "Question 10: Adjust the value of H in your neural network architecture from 6 to 40, and retrain the model. Then, answer the following questions, each of which carries a score of 2:\n",
        "\n",
        "1. How does the training accuracy change after increasing H?\n",
        "2. How does the validation accuracy change after increasing H?\n",
        "3. What is the likely explanation for the observed changes in validation accuracy after increasing H?"
      ],
      "metadata": {
        "id": "20oDAvGDHaK0"
      }
    },
    {
      "cell_type": "markdown",
      "source": [
        "1. The training accuracy increases significantly after increasing H from 6 to 40, from ~0.93 to ~0.98. This indicates that the model is better able to fit the training data with a larger number of hidden units, which leads to better performance.\n",
        "2. The validation accuracy decreases slightly after increasing H from 6 to 40, from ~0.9 to ~0.88. This suggests that the larger model with more hidden units is overfitting the training data and is not generalizing as well to the validation data.\n",
        "3. The likely explanation for the observed decrease in validation accuracy is overfitting, where the larger model with more hidden units is fitting the noise in the training data, rather than the underlying patterns. This causes the model to perform well on the training data but not on the validation data."
      ],
      "metadata": {
        "id": "AwNCT9BTFh2k"
      }
    }
  ]
}